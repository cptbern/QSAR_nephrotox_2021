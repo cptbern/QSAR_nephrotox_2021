{
 "cells": [
  {
   "cell_type": "markdown",
   "id": "20135ff7",
   "metadata": {},
   "source": [
    "# SMOTE Balancing of StandardScaler Data\n",
    "## Load Packages"
   ]
  },
  {
   "cell_type": "code",
   "execution_count": 1,
   "id": "c3d290c8",
   "metadata": {},
   "outputs": [],
   "source": [
    "from imblearn.over_sampling import SMOTE\n",
    "from matplotlib.ticker import FixedLocator, FixedFormatter\n",
    "import matplotlib.pyplot as plt\n",
    "import pickle\n",
    "from datetime import datetime as dt\n",
    "from pprint import pprint\n",
    "import pandas as pd\n",
    "import numpy as np"
   ]
  },
  {
   "cell_type": "markdown",
   "id": "fec71a96",
   "metadata": {},
   "source": [
    "## Load Data"
   ]
  },
  {
   "cell_type": "code",
   "execution_count": 2,
   "id": "f40c7396",
   "metadata": {},
   "outputs": [],
   "source": [
    "X_train, X_test, y_train, y_test = pickle.load( open( \"../../pickles/intercorr_app2_StandardScaler_20210711_214851.pickle\", \"rb\" ) )"
   ]
  },
  {
   "cell_type": "markdown",
   "id": "119ba1fe",
   "metadata": {},
   "source": [
    "#### Convert pandas dataframe to series"
   ]
  },
  {
   "cell_type": "code",
   "execution_count": 3,
   "id": "37e42082",
   "metadata": {},
   "outputs": [],
   "source": [
    "y_train = y_train.squeeze(axis=1)\n",
    "y_test = y_test.squeeze(axis=1)"
   ]
  },
  {
   "cell_type": "markdown",
   "id": "756b4262",
   "metadata": {},
   "source": [
    "## Balance Data -- Oversampling with SMOTE"
   ]
  },
  {
   "cell_type": "code",
   "execution_count": 4,
   "id": "d80a1a25",
   "metadata": {},
   "outputs": [],
   "source": [
    "smt = SMOTE(random_state=78)\n",
    "X_train_smt, y_train_smt=smt.fit_resample(X_train,y_train)"
   ]
  },
  {
   "cell_type": "markdown",
   "id": "2ac89584",
   "metadata": {},
   "source": [
    "##  Check data distribution before and after balancing"
   ]
  },
  {
   "cell_type": "code",
   "execution_count": 5,
   "id": "d758031d",
   "metadata": {},
   "outputs": [
    {
     "name": "stderr",
     "output_type": "stream",
     "text": [
      "<ipython-input-5-8eaad75a8d4a>:9: UserWarning: FixedFormatter should only be used together with FixedLocator\n",
      "  ax1.set_xticklabels(labels)\n",
      "<ipython-input-5-8eaad75a8d4a>:19: UserWarning: FixedFormatter should only be used together with FixedLocator\n",
      "  ax2.set_xticklabels(labels)\n"
     ]
    },
    {
     "data": {
      "image/png": "[encoded data removed]",
      "text/plain": [
       "<Figure size 1080x360 with 2 Axes>"
      ]
     },
     "metadata": {
      "needs_background": "light"
     },
     "output_type": "display_data"
    }
   ],
   "source": [
    "fig, (ax1, ax2) = plt.subplots(1, 2, figsize=(15,5))\n",
    "plt.subplots_adjust(hspace = 0.5)\n",
    "\n",
    "fig.suptitle('Data Distribution before and after Balancing', fontsize=16, y=1.05)\n",
    "\n",
    "labels = [\"Tox\", \"Non-Tox\"]\n",
    "count_classes1 = pd.value_counts(y_train, sort = True)\n",
    "ax1.bar([0,1], count_classes1)\n",
    "ax1.set_xticklabels(labels)\n",
    "ax1.set_title(\"Imbalanced Data\")\n",
    "ax1.set_xticks(range(2))\n",
    "ax1.set_xlabel(\"Class\")\n",
    "ax1.set_ylabel(\"Frequency\")\n",
    "\n",
    "\n",
    "LABELS = [\"Tox\", \"Non-Tox\"]\n",
    "count_classes2 = pd.value_counts(y_train_smt, sort = True)\n",
    "ax2.bar([0,1], count_classes2)\n",
    "ax2.set_xticklabels(labels)\n",
    "ax2.set_title(\"SMOTE Balanced\")\n",
    "ax2.set_xticks(range(2))\n",
    "ax2.set_xlabel(\"Class\")\n",
    "ax2.set_ylabel(\"Frequency\")\n",
    "\n",
    "plt.show()\n",
    "\n",
    "# ipython generates an error message, like: \"UserWarning: FixedFormatter should only be used together with FixedLocator\n",
    "#  ax1.set_xticklabels(labels)\" -> bug\n"
   ]
  },
  {
   "cell_type": "markdown",
   "id": "c1667397",
   "metadata": {},
   "source": [
    "## Save Data"
   ]
  },
  {
   "cell_type": "code",
   "execution_count": 6,
   "id": "97e3798e",
   "metadata": {},
   "outputs": [],
   "source": [
    "out = (X_train_smt, X_test, y_train_smt, y_test)\n",
    "#timestamp = dt.now().strftime(\"%Y%m%d_%H%M%S\")\n",
    "filename = '../../pickles/intercorr_app2_StandardScaler_smote_20210711_214851.pickle' \n",
    "filehandler = open(filename, 'wb')\n",
    "pickle.dump(out, filehandler)"
   ]
  }
 ],
 "metadata": {
  "kernelspec": {
   "display_name": "Python 3",
   "language": "python",
   "name": "python3"
  },
  "language_info": {
   "codemirror_mode": {
    "name": "ipython",
    "version": 3
   },
   "file_extension": ".py",
   "mimetype": "text/x-python",
   "name": "python",
   "nbconvert_exporter": "python",
   "pygments_lexer": "ipython3",
   "version": "3.8.8"
  }
 },
 "nbformat": 4,
 "nbformat_minor": 5
}
