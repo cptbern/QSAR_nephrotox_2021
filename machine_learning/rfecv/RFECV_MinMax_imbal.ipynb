{
 "cells": [
  {
   "cell_type": "markdown",
   "metadata": {},
   "source": [
    "# Random Forest with Recursive Feature Selection and CV - with imbalanced Data from MinMaxScaler"
   ]
  },
  {
   "cell_type": "code",
   "execution_count": 1,
   "metadata": {},
   "outputs": [],
   "source": [
    "import pickle\n",
    "import numpy as np\n",
    "from datetime import datetime as dt\n",
    "\n",
    "from sklearn.ensemble import RandomForestClassifier\n",
    "from sklearn.feature_selection import RFECV\n",
    "from sklearn.model_selection import StratifiedKFold\n",
    "from sklearn.metrics import f1_score\n",
    "\n",
    "from sklearn.metrics import confusion_matrix\n",
    "from sklearn.metrics import plot_confusion_matrix\n",
    "from sklearn.metrics import accuracy_score\n",
    "from sklearn.metrics import roc_auc_score\n",
    "from sklearn.metrics import balanced_accuracy_score\n",
    "from sklearn.metrics import f1_score\n",
    "from sklearn.metrics import recall_score\n",
    "from sklearn.metrics import precision_score\n",
    "from sklearn.metrics import make_scorer\n",
    "from sklearn.metrics import roc_curve, auc\n",
    "\n"
   ]
  },
  {
   "cell_type": "code",
   "execution_count": 2,
   "metadata": {},
   "outputs": [],
   "source": [
    "X_train, X_test, y_train, y_test = pickle.load( open( \"../pickles/intercorr_app2_MinMaxScaler_20210711_214137.pickle\", \"rb\" ) )"
   ]
  },
  {
   "cell_type": "code",
   "execution_count": 4,
   "metadata": {},
   "outputs": [
    {
     "name": "stdout",
     "output_type": "stream",
     "text": [
      "Duration of calculations: 2:27:13.476242\n"
     ]
    }
   ],
   "source": [
    "min_features_to_select = 1  # Minimum number of features to consider\n",
    "nrtrees = 1000\n",
    "depth = 5\n",
    "steps = 1\n",
    "jobs = 96 # nb of cpus to use\n",
    "\n",
    "rfecv_results = {}\n",
    "\n",
    "start = dt.now()\n",
    "for sco, sc in scoring.items():\n",
    "    rfecv = RFECV(estimator=RandomForestClassifier(max_depth=depth, n_estimators=nrtrees, n_jobs=jobs), step=steps, cv=StratifiedKFold(5),\n",
    "              scoring=sc,\n",
    "              min_features_to_select=min_features_to_select)\n",
    "    \n",
    "    rfecv.fit(X_train, np.ravel(y_train,order='C'))\n",
    "    rfecv_results[sco] = rfecv\n",
    "\n",
    "\n",
    "end = dt.now()\n",
    "diff = end-start\n",
    "\n",
    "print('Duration of calculations: %s' %diff)"
   ]
  },
  {
   "cell_type": "code",
   "execution_count": 5,
   "metadata": {},
   "outputs": [
    {
     "name": "stdout",
     "output_type": "stream",
     "text": [
      "============================================================================\n",
      "Optimized for f1-score: -- Evaluation with Training Set \n",
      "\n",
      "Balanced Accuracy:  0.7678908505440818\n",
      "Accuracy :  0.8794788273615635\n",
      "f1-score :  0.9247967479674797\n",
      "Recall :  0.9978070175438597\n",
      "Specificity :  0.5379746835443038\n",
      "---------------\n",
      "\n",
      "Optimized for f1-score: -- Confusion Matrix and External Evaluation \n",
      "\n",
      "Balanced Accuracy:  0.5714285714285714\n",
      "Accuracy :  0.7337662337662337\n",
      "f1-score :  0.8353413654618475\n",
      "Recall :  0.9285714285714286\n",
      "Specificity :  0.21428571428571427\n"
     ]
    },
    {
     "data": {
      "image/png": "[encoded data removed]",
      "text/plain": [
       "<Figure size 360x216 with 2 Axes>"
      ]
     },
     "metadata": {
      "needs_background": "light"
     },
     "output_type": "display_data"
    },
    {
     "name": "stdout",
     "output_type": "stream",
     "text": [
      "\n",
      "\n",
      "\n",
      "============================================================================\n",
      "Optimized for recall-score: -- Evaluation with Training Set \n",
      "\n",
      "Balanced Accuracy:  0.7742199644681325\n",
      "Accuracy :  0.8827361563517915\n",
      "f1-score :  0.9266802443991854\n",
      "Recall :  0.9978070175438597\n",
      "Specificity :  0.5506329113924051\n",
      "---------------\n",
      "\n",
      "Optimized for recall-score: -- Confusion Matrix and External Evaluation \n",
      "\n",
      "Balanced Accuracy:  0.5491071428571429\n",
      "Accuracy :  0.7337662337662337\n",
      "f1-score :  0.8392156862745098\n",
      "Recall :  0.9553571428571429\n",
      "Specificity :  0.14285714285714285\n"
     ]
    },
    {
     "data": {
      "image/png": "[encoded data removed]",
      "text/plain": [
       "<Figure size 360x216 with 2 Axes>"
      ]
     },
     "metadata": {
      "needs_background": "light"
     },
     "output_type": "display_data"
    },
    {
     "name": "stdout",
     "output_type": "stream",
     "text": [
      "\n",
      "\n",
      "\n",
      "============================================================================\n",
      "Optimized for specificity-score: -- Evaluation with Training Set \n",
      "\n",
      "Balanced Accuracy:  0.7520680657339551\n",
      "Accuracy :  0.8713355048859935\n",
      "f1-score :  0.9201213346814965\n",
      "Recall :  0.9978070175438597\n",
      "Specificity :  0.5063291139240507\n",
      "---------------\n",
      "\n",
      "Optimized for specificity-score: -- Confusion Matrix and External Evaluation \n",
      "\n",
      "Balanced Accuracy:  0.5907738095238095\n",
      "Accuracy :  0.7402597402597403\n",
      "f1-score :  0.8373983739837397\n",
      "Recall :  0.9196428571428571\n",
      "Specificity :  0.2619047619047619\n"
     ]
    },
    {
     "data": {
      "image/png": "[encoded data removed]",
      "text/plain": [
       "<Figure size 360x216 with 2 Axes>"
      ]
     },
     "metadata": {
      "needs_background": "light"
     },
     "output_type": "display_data"
    },
    {
     "name": "stdout",
     "output_type": "stream",
     "text": [
      "\n",
      "\n",
      "\n"
     ]
    }
   ],
   "source": [
    "for k,v in rfecv_results.items():\n",
    "\n",
    "    print('============================================================================')\n",
    "    print('Optimized for %s-score: -- Evaluation with Training Set \\n' %(k))\n",
    "    y_predicted = rfecv_results[k].predict(X_train)\n",
    "    print('Balanced Accuracy: ', balanced_accuracy_score(y_train, y_predicted))\n",
    "    print('Accuracy : ', accuracy_score(y_train, y_predicted))\n",
    "    print('f1-score : ', f1_score(y_train, y_predicted))\n",
    "    print('Recall : ' , recall_score(y_train, y_predicted))\n",
    "\n",
    "    print('Specificity : ', recall_score(y_train, y_predicted, pos_label=0) )\n",
    "    print('---------------\\n')\n",
    "\n",
    "    print('Optimized for %s-score: -- Confusion Matrix and External Evaluation \\n' %(k))\n",
    "    y_predicted = rfecv_results[k].predict(X_test)\n",
    "    cm1 = confusion_matrix(y_test, y_predicted)\n",
    "    \n",
    "    print('Balanced Accuracy: ', balanced_accuracy_score(y_test, y_predicted))\n",
    "    print('Accuracy : ', accuracy_score(y_test, y_predicted))\n",
    "    print('f1-score : ', f1_score(y_test, y_predicted))\n",
    "    print('Recall : ' , recall_score(y_test, y_predicted))\n",
    "\n",
    "\n",
    "    print('Specificity : ', recall_score(y_test, y_predicted, pos_label=0) )\n",
    "\n",
    "    # Visualize it as a heatmap\n",
    "    import matplotlib.pyplot as plt\n",
    "    import seaborn as sn\n",
    "    plt.figure(figsize=(5,3))\n",
    "    sn.heatmap(cm1,annot=True, fmt='g')\n",
    "    plt.xlabel('Predicted')\n",
    "    plt.ylabel('Truth')\n",
    "    plt.show()\n",
    "    print('\\n\\n')"
   ]
  },
  {
   "cell_type": "code",
   "execution_count": 3,
   "metadata": {},
   "outputs": [],
   "source": [
    "scoring = {'f1' : 'f1',\n",
    "           'recall': 'recall',\n",
    "           #'precision' : 'precision',\n",
    "          'specificity' : make_scorer(recall_score, pos_label=0),\n",
    "           }"
   ]
  },
  {
   "cell_type": "code",
   "execution_count": 6,
   "metadata": {},
   "outputs": [],
   "source": [
    "out = (rfecv_results)\n",
    "timestamp = dt.now().strftime(\"%Y%m%d_%H%M%S\")\n",
    "filename = 'RFECV_MinMax_imbal_%s.pickle' %timestamp\n",
    "filehandler = open(filename, 'wb')\n",
    "pickle.dump(out, filehandler)"
   ]
  },
  {
   "cell_type": "code",
   "execution_count": null,
   "metadata": {},
   "outputs": [],
   "source": []
  }
 ],
 "metadata": {
  "kernelspec": {
   "display_name": "Python 3",
   "language": "python",
   "name": "python3"
  },
  "language_info": {
   "codemirror_mode": {
    "name": "ipython",
    "version": 3
   },
   "file_extension": ".py",
   "mimetype": "text/x-python",
   "name": "python",
   "nbconvert_exporter": "python",
   "pygments_lexer": "ipython3",
   "version": "3.8.5"
  }
 },
 "nbformat": 4,
 "nbformat_minor": 5
}
