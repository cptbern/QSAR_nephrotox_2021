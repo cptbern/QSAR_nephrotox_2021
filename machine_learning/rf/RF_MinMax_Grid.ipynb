{
 "cells": [
  {
   "cell_type": "markdown",
   "metadata": {},
   "source": [
    "# Random Forest - with Imbalanced Data from MinMaxScaler\n",
    "\n",
    "## Grid search with different parameters\n",
    "\n",
    "Various parameters and values are tested by a grid search and scored against either the 'f1', 'recall' and 'specificity' scoring metric.\n",
    "\n",
    "\n",
    "### Load Packages"
   ]
  },
  {
   "cell_type": "code",
   "execution_count": 1,
   "metadata": {},
   "outputs": [],
   "source": [
    "import pickle\n",
    "from datetime import datetime as dt\n",
    "import time\n",
    "from pprint import pprint\n",
    "import pandas as pd\n",
    "import numpy as np\n",
    "import matplotlib.pyplot as plt\n",
    "import matplotlib.ticker as tkr \n",
    "\n",
    "from sklearn.ensemble import RandomForestClassifier\n",
    "from sklearn.model_selection import GridSearchCV\n",
    "from sklearn.model_selection import RandomizedSearchCV\n",
    "from sklearn.model_selection import StratifiedKFold\n",
    "from sklearn.model_selection import StratifiedShuffleSplit\n",
    "from sklearn.model_selection import cross_val_score\n",
    "from sklearn.model_selection import cross_validate\n",
    "from sklearn.tree import plot_tree\n",
    "from sklearn.metrics import confusion_matrix\n",
    "from sklearn.metrics import plot_confusion_matrix\n",
    "from sklearn.metrics import accuracy_score\n",
    "from sklearn.metrics import roc_auc_score\n",
    "from sklearn.metrics import balanced_accuracy_score\n",
    "from sklearn.metrics import f1_score\n",
    "from sklearn.metrics import recall_score\n",
    "from sklearn.metrics import precision_score\n",
    "from sklearn.metrics import make_scorer\n",
    "from sklearn.metrics import roc_curve, auc"
   ]
  },
  {
   "cell_type": "markdown",
   "metadata": {},
   "source": [
    "### Load data"
   ]
  },
  {
   "cell_type": "code",
   "execution_count": 2,
   "metadata": {},
   "outputs": [],
   "source": [
    "# import dataset from pickle\n",
    "X_train, X_test, y_train, y_test = pickle.load( open( \"../pickles/intercorr_app2_MinMaxScaler_20210711_214137.pickle\", \"rb\" ) )"
   ]
  },
  {
   "cell_type": "markdown",
   "metadata": {},
   "source": [
    "#### Convert pandas dataframe to series"
   ]
  },
  {
   "cell_type": "code",
   "execution_count": 3,
   "metadata": {},
   "outputs": [],
   "source": [
    "y_train = y_train.squeeze(axis=1)\n",
    "y_test = y_test.squeeze(axis=1)"
   ]
  },
  {
   "cell_type": "markdown",
   "metadata": {},
   "source": [
    "### Grid search\n",
    "#### Define parameter grid and scoring metric"
   ]
  },
  {
   "cell_type": "code",
   "execution_count": 4,
   "metadata": {},
   "outputs": [],
   "source": [
    "grid = {'max_depth' : [int(x) for x in np.linspace(5, 10, num = 6)], \n",
    "         #'min_samples_split' : [int(x) for x in np.linspace(2, 20, num = 10)],\n",
    "         #'min_samples_leaf' : [int(x) for x in np.linspace(1, 8, num = 8)],\n",
    "        'min_weight_fraction_leaf' : [float(x) for x in np.linspace(0, 0.15, num = 5)],\n",
    "        'min_impurity_decrease' : [float(x) for x in np.linspace(0, 0.08, num = 4)],\n",
    "        #'class_weight' : [{0:float(\"{0:.2f}\".format(x)), 1:1-float(\"{0:.2f}\".format(x))} for x in np.linspace(0, 0.5, num = 6)],\n",
    "        'criterion' : ['entropy', 'gini'],\n",
    "        }\n",
    "\n",
    "scoring = {'f1' : 'f1',\n",
    "           'recall': 'recall',\n",
    "           #'precision' : 'precision',\n",
    "          'specificity' : make_scorer(recall_score, pos_label=0),\n",
    "           }"
   ]
  },
  {
   "cell_type": "markdown",
   "metadata": {},
   "source": [
    "#### Run grid search"
   ]
  },
  {
   "cell_type": "code",
   "execution_count": 5,
   "metadata": {},
   "outputs": [],
   "source": [
    "grid_results = {}"
   ]
  },
  {
   "cell_type": "code",
   "execution_count": 6,
   "metadata": {},
   "outputs": [
    {
     "name": "stdout",
     "output_type": "stream",
     "text": [
      "Calculation time: 00:04:49\n"
     ]
    }
   ],
   "source": [
    "estimators = 1000\n",
    "jobs = -1\n",
    "rstate = 78\n",
    "\n",
    "start = time.time()\n",
    "\n",
    "for sco, sc in scoring.items():\n",
    "    clf_rf = RandomForestClassifier(random_state = rstate, n_estimators = estimators, n_jobs=48)\n",
    "    clf_grid = GridSearchCV(clf_rf, grid, cv=StratifiedKFold(10), n_jobs=48, scoring=sc)\n",
    "    clf_grid.fit(X_train, y_train)\n",
    "    grid_results[sco] = clf_grid\n",
    "    \n",
    "    \n",
    "    \n",
    "end = time.time()\n",
    "\n",
    "print('Calculation time: ' + time.strftime('%H:%M:%S',time.gmtime(end-start)))"
   ]
  },
  {
   "cell_type": "code",
   "execution_count": 7,
   "metadata": {},
   "outputs": [
    {
     "name": "stdout",
     "output_type": "stream",
     "text": [
      "f1-score: RandomForestClassifier(criterion='entropy', max_depth=9,\n",
      "                       min_weight_fraction_leaf=0.0375, n_estimators=1000,\n",
      "                       n_jobs=48, random_state=78)\n",
      "\n",
      "recall-score: RandomForestClassifier(criterion='entropy', max_depth=5,\n",
      "                       min_weight_fraction_leaf=0.15, n_estimators=1000,\n",
      "                       n_jobs=48, random_state=78)\n",
      "\n",
      "specificity-score: RandomForestClassifier(max_depth=8, n_estimators=1000, n_jobs=48,\n",
      "                       random_state=78)\n",
      "\n"
     ]
    }
   ],
   "source": [
    "for k,v in grid_results.items():\n",
    "    print(k + '-score: %s\\n'  %grid_results[k].best_estimator_)"
   ]
  },
  {
   "cell_type": "code",
   "execution_count": 8,
   "metadata": {},
   "outputs": [
    {
     "name": "stdout",
     "output_type": "stream",
     "text": [
      "============================================================================\n",
      "Optimized for f1-score: -- Evaluation with Training Set \n",
      "\n",
      "Balanced Accuracy:  0.6686930934932267\n",
      "Accuracy :  0.8273615635179153\n",
      "f1-score :  0.8954635108481264\n",
      "Recall :  0.9956140350877193\n",
      "Specificity :  0.34177215189873417\n",
      "---------------\n",
      "\n",
      "Optimized for f1-score: -- Confusion Matrix and External Evaluation \n",
      "\n",
      "Balanced Accuracy:  0.5491071428571429\n",
      "Accuracy :  0.7337662337662337\n",
      "f1-score :  0.8392156862745098\n",
      "Recall :  0.9553571428571429\n",
      "Specificity :  0.14285714285714285\n"
     ]
    },
    {
     "data": {
      "image/png": "[encoded data removed]",
      "text/plain": [
       "<Figure size 360x216 with 2 Axes>"
      ]
     },
     "metadata": {
      "needs_background": "light"
     },
     "output_type": "display_data"
    },
    {
     "name": "stdout",
     "output_type": "stream",
     "text": [
      "\n",
      "\n",
      "\n",
      "============================================================================\n",
      "Optimized for recall-score: -- Evaluation with Training Set \n",
      "\n",
      "Balanced Accuracy:  0.5\n",
      "Accuracy :  0.742671009771987\n",
      "f1-score :  0.8523364485981308\n",
      "Recall :  1.0\n",
      "Specificity :  0.0\n",
      "---------------\n",
      "\n",
      "Optimized for recall-score: -- Confusion Matrix and External Evaluation \n",
      "\n",
      "Balanced Accuracy:  0.5\n",
      "Accuracy :  0.7272727272727273\n",
      "f1-score :  0.8421052631578948\n",
      "Recall :  1.0\n",
      "Specificity :  0.0\n"
     ]
    },
    {
     "data": {
      "image/png": "[encoded data removed]",
      "text/plain": [
       "<Figure size 360x216 with 2 Axes>"
      ]
     },
     "metadata": {
      "needs_background": "light"
     },
     "output_type": "display_data"
    },
    {
     "name": "stdout",
     "output_type": "stream",
     "text": [
      "\n",
      "\n",
      "\n",
      "============================================================================\n",
      "Optimized for specificity-score: -- Evaluation with Training Set \n",
      "\n",
      "Balanced Accuracy:  0.9715189873417722\n",
      "Accuracy :  0.9853420195439739\n",
      "f1-score :  0.990228013029316\n",
      "Recall :  1.0\n",
      "Specificity :  0.9430379746835443\n",
      "---------------\n",
      "\n",
      "Optimized for specificity-score: -- Confusion Matrix and External Evaluation \n",
      "\n",
      "Balanced Accuracy:  0.5848214285714286\n",
      "Accuracy :  0.7532467532467533\n",
      "f1-score :  0.8492063492063492\n",
      "Recall :  0.9553571428571429\n",
      "Specificity :  0.21428571428571427\n"
     ]
    },
    {
     "data": {
      "image/png": "[encoded data removed]",
      "text/plain": [
       "<Figure size 360x216 with 2 Axes>"
      ]
     },
     "metadata": {
      "needs_background": "light"
     },
     "output_type": "display_data"
    },
    {
     "name": "stdout",
     "output_type": "stream",
     "text": [
      "\n",
      "\n",
      "\n"
     ]
    }
   ],
   "source": [
    "for k,v in grid_results.items():\n",
    "\n",
    "    print('============================================================================')\n",
    "    print('Optimized for %s-score: -- Evaluation with Training Set \\n' %(k))\n",
    "    y_predicted = grid_results[k].predict(X_train)\n",
    "    print('Balanced Accuracy: ', balanced_accuracy_score(y_train, y_predicted))\n",
    "    print('Accuracy : ', accuracy_score(y_train, y_predicted))\n",
    "    print('f1-score : ', f1_score(y_train, y_predicted))\n",
    "    print('Recall : ' , recall_score(y_train, y_predicted))\n",
    "\n",
    "    print('Specificity : ', recall_score(y_train, y_predicted, pos_label=0) )\n",
    "    print('---------------\\n')\n",
    "\n",
    "    print('Optimized for %s-score: -- Confusion Matrix and External Evaluation \\n' %(k))\n",
    "    y_predicted = grid_results[k].predict(X_test)\n",
    "    cm1 = confusion_matrix(y_test, y_predicted)\n",
    "    \n",
    "    print('Balanced Accuracy: ', balanced_accuracy_score(y_test, y_predicted))\n",
    "    print('Accuracy : ', accuracy_score(y_test, y_predicted))\n",
    "    print('f1-score : ', f1_score(y_test, y_predicted))\n",
    "    print('Recall : ' , recall_score(y_test, y_predicted))\n",
    "\n",
    "\n",
    "    print('Specificity : ', recall_score(y_test, y_predicted, pos_label=0) )\n",
    "\n",
    "    # Visualize it as a heatmap\n",
    "    import matplotlib.pyplot as plt\n",
    "    import seaborn as sn\n",
    "    plt.figure(figsize=(5,3))\n",
    "    sn.heatmap(cm1,annot=True, fmt='g')\n",
    "    plt.xlabel('Predicted')\n",
    "    plt.ylabel('Truth')\n",
    "    plt.show()\n",
    "    print('\\n\\n')"
   ]
  },
  {
   "cell_type": "markdown",
   "metadata": {},
   "source": [
    "### Save Results"
   ]
  },
  {
   "cell_type": "code",
   "execution_count": 9,
   "metadata": {},
   "outputs": [],
   "source": [
    "out = (grid_results)\n",
    "timestamp = dt.now().strftime(\"%Y%m%d_%H%M%S\")\n",
    "filename = 'RF_MinMax_imbal_%s.pickle' %timestamp\n",
    "filehandler = open(filename, 'wb')\n",
    "pickle.dump(out, filehandler)"
   ]
  },
  {
   "cell_type": "code",
   "execution_count": null,
   "metadata": {},
   "outputs": [],
   "source": []
  }
 ],
 "metadata": {
  "kernelspec": {
   "display_name": "Python 3",
   "language": "python",
   "name": "python3"
  },
  "language_info": {
   "codemirror_mode": {
    "name": "ipython",
    "version": 3
   },
   "file_extension": ".py",
   "mimetype": "text/x-python",
   "name": "python",
   "nbconvert_exporter": "python",
   "pygments_lexer": "ipython3",
   "version": "3.8.5"
  }
 },
 "nbformat": 4,
 "nbformat_minor": 5
}
