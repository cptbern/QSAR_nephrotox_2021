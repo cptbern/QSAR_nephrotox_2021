{
 "cells": [
  {
   "cell_type": "markdown",
   "id": "9eeeec9a",
   "metadata": {},
   "source": [
    "# Feature Inter-correlation of Data from RobustScaler\n",
    "## Load Packages"
   ]
  },
  {
   "cell_type": "code",
   "execution_count": 1,
   "id": "951a1385",
   "metadata": {},
   "outputs": [],
   "source": [
    "import pickle\n",
    "import matplotlib.pyplot as plt\n",
    "import seaborn as sns\n",
    "from datetime import datetime as dt"
   ]
  },
  {
   "cell_type": "markdown",
   "id": "89b95c83",
   "metadata": {},
   "source": [
    "## Load Data"
   ]
  },
  {
   "cell_type": "code",
   "execution_count": 2,
   "id": "f13efbba",
   "metadata": {},
   "outputs": [],
   "source": [
    "# import dataset from pickle\n",
    "X_train, X_test, y_train, y_test = pickle.load( open( \"../pickles/lowthreshold_RobustScaler_20210711_205741.pickle\", \"rb\" ) )"
   ]
  },
  {
   "cell_type": "markdown",
   "id": "bd6104d2",
   "metadata": {},
   "source": [
    "## Approach 1\n",
    "Correlation between feature c1 and c2. Remove feature c1, if a correlation above a given threshold is observed"
   ]
  },
  {
   "cell_type": "code",
   "execution_count": 3,
   "id": "677977e2",
   "metadata": {},
   "outputs": [],
   "source": [
    "def correlation1(dataset, threshold):\n",
    "    col_corr = set() \n",
    "    corr_matrix = dataset.corr()\n",
    "    for i in range(len(corr_matrix.columns)):\n",
    "        for j in range(i):\n",
    "            if abs(corr_matrix.iloc[i, j]) > threshold: # calculate absolute values\n",
    "                colname = corr_matrix.columns[i]  # get the name of the columns\n",
    "                col_corr.add(colname)\n",
    "    return col_corr"
   ]
  },
  {
   "cell_type": "code",
   "execution_count": 4,
   "id": "cd7bb0e6",
   "metadata": {},
   "outputs": [],
   "source": [
    "# Correlation threshold 90%\n",
    "corr_features1 = correlation1(X_train, 0.90)"
   ]
  },
  {
   "cell_type": "code",
   "execution_count": 5,
   "id": "fbfdbfce",
   "metadata": {},
   "outputs": [],
   "source": [
    "X_train_app1 = X_train.drop(corr_features1,axis=1)\n",
    "X_test_app1 = X_test.drop(corr_features1,axis=1)"
   ]
  },
  {
   "cell_type": "code",
   "execution_count": 6,
   "id": "59e1a038",
   "metadata": {},
   "outputs": [
    {
     "name": "stdout",
     "output_type": "stream",
     "text": [
      "Features with high correlation:  901\n",
      "Features with low correlation:  471\n"
     ]
    }
   ],
   "source": [
    "print('Features with high correlation: ', len(corr_features1))\n",
    "print('Features with low correlation: ', X_train_app1.shape[1])"
   ]
  },
  {
   "cell_type": "markdown",
   "id": "1fe5ab3f",
   "metadata": {},
   "source": [
    "#### Simple heatmap for the correlation matrix"
   ]
  },
  {
   "cell_type": "code",
   "execution_count": 7,
   "id": "f8e14fb4",
   "metadata": {},
   "outputs": [],
   "source": [
    "#plt.figure(figsize=(12,12))\n",
    "#cor = X_train_app1.corr()\n",
    "#sns.heatmap(cor)\n",
    "#plt.show()"
   ]
  },
  {
   "cell_type": "markdown",
   "id": "e1f89793",
   "metadata": {},
   "source": [
    "## Approach 2\n",
    "If correlation between feature c1 & c2 and c1 & c3. It gets only removed if there is a correlation between c2 & c3, if the correlation is above a given threshold."
   ]
  },
  {
   "cell_type": "code",
   "execution_count": 8,
   "id": "f7ecb10c",
   "metadata": {},
   "outputs": [],
   "source": [
    "def correlation2(dataset, threshold):\n",
    "    col_corr = set() \n",
    "    corr_matrix = dataset.corr()\n",
    "    for i in range(len(corr_matrix.columns)):\n",
    "        for j in range(i):\n",
    "            # if c1 correlates with c2, and c2 with c3 and c1 with c3 ...\n",
    "            if abs(corr_matrix.iloc[i, j]) > threshold and (corr_matrix.columns[j] not in col_corr): \n",
    "                colname = corr_matrix.columns[i]  # getting the name of column\n",
    "                col_corr.add(colname)\n",
    "    return col_corr"
   ]
  },
  {
   "cell_type": "code",
   "execution_count": 9,
   "id": "76675ee3",
   "metadata": {},
   "outputs": [],
   "source": [
    "# Correlation threshold 90%\n",
    "corr_features2 = correlation2(X_train, 0.9)"
   ]
  },
  {
   "cell_type": "code",
   "execution_count": 10,
   "id": "6a9bac14",
   "metadata": {},
   "outputs": [],
   "source": [
    "X_train_app2 = X_train.drop(corr_features2,axis=1)\n",
    "X_test_app2 = X_test.drop(corr_features2,axis=1)"
   ]
  },
  {
   "cell_type": "code",
   "execution_count": 11,
   "id": "bbcc1f4a",
   "metadata": {},
   "outputs": [
    {
     "name": "stdout",
     "output_type": "stream",
     "text": [
      "Features with high correlation:  836\n",
      "Features with low correlation:  536\n"
     ]
    }
   ],
   "source": [
    "print('Features with high correlation: ', len(corr_features2))\n",
    "print('Features with low correlation: ', X_train_app2.shape[1])"
   ]
  },
  {
   "cell_type": "markdown",
   "id": "d4a86fe8",
   "metadata": {},
   "source": [
    "#### Simple heatmap for the correlation matrix"
   ]
  },
  {
   "cell_type": "code",
   "execution_count": 12,
   "id": "c6454721",
   "metadata": {},
   "outputs": [],
   "source": [
    "#plt.figure(figsize=(12,12))\n",
    "#cor = X_train_app2.corr()\n",
    "#sns.heatmap(cor)\n",
    "#plt.show()"
   ]
  },
  {
   "cell_type": "markdown",
   "id": "7c8af9f8",
   "metadata": {},
   "source": [
    "## Export / Save for Next Working Step\n",
    "Save the feature set generated by the two approaches into two different pickles."
   ]
  },
  {
   "cell_type": "code",
   "execution_count": 13,
   "id": "b489b935",
   "metadata": {},
   "outputs": [],
   "source": [
    "exobj_mima = (X_train_app1, X_test_app1, y_train, y_test)\n",
    "timestamp = dt.now().strftime(\"%Y%m%d_%H%M%S\")\n",
    "filename = '../pickles/intercorr_app1_RobustScaler_%s.pickle' %timestamp\n",
    "filehandler = open(filename, 'wb')\n",
    "pickle.dump(exobj_mima, filehandler)"
   ]
  },
  {
   "cell_type": "code",
   "execution_count": 14,
   "id": "6e92d056",
   "metadata": {},
   "outputs": [],
   "source": [
    "exobj_mima = (X_train_app2, X_test_app2, y_train, y_test)\n",
    "timestamp = dt.now().strftime(\"%Y%m%d_%H%M%S\")\n",
    "filename = '../pickles/intercorr_app2_RobustScaler_%s.pickle' %timestamp\n",
    "filehandler = open(filename, 'wb')\n",
    "pickle.dump(exobj_mima, filehandler)"
   ]
  }
 ],
 "metadata": {
  "kernelspec": {
   "display_name": "Python 3",
   "language": "python",
   "name": "python3"
  },
  "language_info": {
   "codemirror_mode": {
    "name": "ipython",
    "version": 3
   },
   "file_extension": ".py",
   "mimetype": "text/x-python",
   "name": "python",
   "nbconvert_exporter": "python",
   "pygments_lexer": "ipython3",
   "version": "3.8.8"
  }
 },
 "nbformat": 4,
 "nbformat_minor": 5
}
