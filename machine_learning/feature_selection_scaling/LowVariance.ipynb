{
 "cells": [
  {
   "cell_type": "markdown",
   "id": "comparable-maple",
   "metadata": {},
   "source": [
    "# VarianceThreshold\n",
    "\n",
    "\n",
    "## Load Packages"
   ]
  },
  {
   "cell_type": "code",
   "execution_count": 1,
   "id": "victorian-mother",
   "metadata": {},
   "outputs": [],
   "source": [
    "# General packages\n",
    "import pandas as pd\n",
    "import matplotlib.pyplot as plt\n",
    "import pickle\n",
    "from datetime import datetime as dt\n",
    "\n",
    "# Scikit-Learn packages\n",
    "from sklearn.model_selection import train_test_split\n",
    "from sklearn.feature_selection import VarianceThreshold"
   ]
  },
  {
   "cell_type": "markdown",
   "id": "neutral-mounting",
   "metadata": {},
   "source": [
    "## Load Dataset and Process\n",
    "Import datasets from pickle\n",
    "\n",
    "### Data from MinMaxScaler()"
   ]
  },
  {
   "cell_type": "code",
   "execution_count": 2,
   "id": "phantom-switzerland",
   "metadata": {},
   "outputs": [],
   "source": [
    "X_train_minmax, X_test_minmax, y_train, y_test = pickle.load( open( \"../pickles/MinMaxScaler_20210711_181758.pickle\", \"rb\" ) )"
   ]
  },
  {
   "cell_type": "markdown",
   "id": "apparent-mailing",
   "metadata": {},
   "source": [
    "### Data from StandardScaler()"
   ]
  },
  {
   "cell_type": "code",
   "execution_count": 3,
   "id": "positive-penguin",
   "metadata": {},
   "outputs": [],
   "source": [
    "X_train_std, X_test_std, y_train, y_test = pickle.load( open( \"../pickles/StandardScaler_20210711_181800.pickle\", \"rb\" ) )"
   ]
  },
  {
   "cell_type": "markdown",
   "id": "composed-expert",
   "metadata": {},
   "source": [
    "### Data from RobustScaler()"
   ]
  },
  {
   "cell_type": "code",
   "execution_count": 4,
   "id": "dated-duplicate",
   "metadata": {},
   "outputs": [],
   "source": [
    "X_train_rob, X_test_rob, y_train, y_test = pickle.load( open( \"../pickles/RobustScaler_20210711_181801.pickle\", \"rb\" ) )"
   ]
  },
  {
   "cell_type": "markdown",
   "id": "dressed-collection",
   "metadata": {},
   "source": [
    "## Low-variance Determination\n",
    "Run VarianceThreshold with different threshold values. Determine how many features are below / above the threshold."
   ]
  },
  {
   "cell_type": "code",
   "execution_count": 5,
   "id": "understood-asset",
   "metadata": {},
   "outputs": [],
   "source": [
    "def loopthreshold(data, stepsize):\n",
    "    \"\"\"Tests different thresholds until no more features fulfill the requirement\"\"\"\n",
    "    resthres = []\n",
    "    threshold = 0\n",
    "    while True:\n",
    "        try:\n",
    "            selector = VarianceThreshold(threshold=threshold)\n",
    "            selector.fit_transform(data)\n",
    "            resthres.append((threshold, sum(selector.get_support())))\n",
    "            if threshold >= 10:\n",
    "                print('limit reached')\n",
    "                break\n",
    "            threshold += stepsize\n",
    "        except ValueError:\n",
    "            print('Input variance too high ', threshold)\n",
    "            break\n",
    "    return resthres"
   ]
  },
  {
   "cell_type": "markdown",
   "id": "04585b65",
   "metadata": {},
   "source": [
    "Test threshold values the three differently scaled data sets."
   ]
  },
  {
   "cell_type": "code",
   "execution_count": 6,
   "id": "french-scroll",
   "metadata": {},
   "outputs": [
    {
     "name": "stdout",
     "output_type": "stream",
     "text": [
      "Input variance too high  0.17\n",
      "Input variance too high  1.0500000000000003\n",
      "limit reached\n"
     ]
    }
   ],
   "source": [
    "mima_threshold = loopthreshold(X_train_minmax, 0.01)\n",
    "std_threshold = loopthreshold(X_train_std, 0.05)\n",
    "rob_threshold = loopthreshold(X_train_rob, 0.05)"
   ]
  },
  {
   "cell_type": "markdown",
   "id": "e94056f6",
   "metadata": {},
   "source": [
    "### Plot Data Variance"
   ]
  },
  {
   "cell_type": "code",
   "execution_count": 7,
   "id": "parliamentary-greene",
   "metadata": {
    "scrolled": true
   },
   "outputs": [
    {
     "data": {
      "image/png": "[encoded data removed]",
      "text/plain": [
       "<Figure size 432x360 with 1 Axes>"
      ]
     },
     "metadata": {
      "needs_background": "light"
     },
     "output_type": "display_data"
    }
   ],
   "source": [
    "plt.figure(figsize=(6,5))\n",
    "x_mima, y_mima = zip(*mima_threshold)\n",
    "x_std, y_std = zip(*std_threshold)\n",
    "x_rob, y_rob = zip(*rob_threshold)\n",
    "plt.xlim(-0.02, 1.5)\n",
    "plt.ylim(0, 1650)\n",
    "plt.plot(x_mima, y_mima, 'r', label='MinMax')\n",
    "plt.plot(x_mima, y_mima, 'or')\n",
    "plt.plot(x_std, y_std,'b', label='Standard')\n",
    "plt.plot(x_std, y_std, 'ob')\n",
    "plt.plot(x_rob, y_rob, 'g', label='Robust')\n",
    "plt.plot(x_rob, y_rob, 'og')\n",
    "plt.xlabel('Variance Threshold')\n",
    "plt.ylabel('Descriptors')\n",
    "plt.legend()\n",
    "plt.show()"
   ]
  },
  {
   "cell_type": "markdown",
   "id": "broken-representative",
   "metadata": {},
   "source": [
    "##  Remove Low-Variance Features in the MinMaxScaler Data"
   ]
  },
  {
   "cell_type": "code",
   "execution_count": 8,
   "id": "soviet-enlargement",
   "metadata": {},
   "outputs": [
    {
     "data": {
      "text/plain": [
       "Index(['AMR', 'apol', 'nAtom', 'nHeavyAtom', 'nH', 'nC', 'nN', 'nP', 'nF',\n",
       "       'nCl',\n",
       "       ...\n",
       "       'L2s', 'L3s', 'P1s', 'P2s', 'E1s', 'E2s', 'E3s', 'Ts', 'Ks', 'Ds'],\n",
       "      dtype='object', length=787)"
      ]
     },
     "execution_count": 8,
     "metadata": {},
     "output_type": "execute_result"
    }
   ],
   "source": [
    "#Threshold estimate from plot\n",
    "threshold = 0.015 \n",
    "selector = VarianceThreshold(threshold)\n",
    "selector.fit_transform(X_train_minmax)\n",
    "X_train_minmax.columns[selector.get_support()]"
   ]
  },
  {
   "cell_type": "markdown",
   "id": "seasonal-water",
   "metadata": {},
   "source": [
    "#### Get the number of columns with low variance"
   ]
  },
  {
   "cell_type": "code",
   "execution_count": 9,
   "id": "detailed-generator",
   "metadata": {},
   "outputs": [
    {
     "name": "stdout",
     "output_type": "stream",
     "text": [
      "Nb. with low-variance:  1088\n",
      "Nb. with sufficient variance:  787\n"
     ]
    }
   ],
   "source": [
    "constant_columns = [column for column in X_train_minmax.columns\n",
    "                    if column not in X_train_minmax.columns[selector.get_support()]]\n",
    "print('Nb. with low-variance: ', len(constant_columns))\n",
    "print('Nb. with sufficient variance: ', sum(selector.get_support()))"
   ]
  },
  {
   "cell_type": "markdown",
   "id": "whole-passage",
   "metadata": {},
   "source": [
    "#### Get the number of columns with sufficient variance"
   ]
  },
  {
   "cell_type": "code",
   "execution_count": 10,
   "id": "iraqi-sunrise",
   "metadata": {},
   "outputs": [
    {
     "name": "stdout",
     "output_type": "stream",
     "text": [
      "Shape of MinMaxScaler train set (614, 787)\n",
      "Shape of MinMaxScaler test set (154, 787)\n"
     ]
    }
   ],
   "source": [
    "X_train_minmax_var = X_train_minmax.drop(constant_columns,axis=1)\n",
    "X_test_minmax_var = X_test_minmax.drop(constant_columns,axis=1)\n",
    "print('Shape of MinMaxScaler train set', X_train_minmax_var.shape)\n",
    "print('Shape of MinMaxScaler test set',X_test_minmax_var.shape)"
   ]
  },
  {
   "cell_type": "markdown",
   "id": "three-significance",
   "metadata": {},
   "source": [
    "##  Remove Low-Variance Features in the StandardScaler Data\n",
    "Just remove all data with zero variance. As the rest of the data is scaled to variance 1"
   ]
  },
  {
   "cell_type": "code",
   "execution_count": 11,
   "id": "thick-belly",
   "metadata": {},
   "outputs": [
    {
     "data": {
      "text/plain": [
       "Index(['nAcid', 'ALogP', 'ALogp2', 'AMR', 'apol', 'nAtom', 'nHeavyAtom', 'nH',\n",
       "       'nC', 'nN',\n",
       "       ...\n",
       "       'P1s', 'P2s', 'E1s', 'E2s', 'E3s', 'Ts', 'As', 'Vs', 'Ks', 'Ds'],\n",
       "      dtype='object', length=1598)"
      ]
     },
     "execution_count": 11,
     "metadata": {},
     "output_type": "execute_result"
    }
   ],
   "source": [
    "#Threshold estimate from plot\n",
    "threshold = 0.0\n",
    "selector = VarianceThreshold(threshold)\n",
    "selector.fit_transform(X_train_std)\n",
    "X_train_std.columns[selector.get_support()]"
   ]
  },
  {
   "cell_type": "markdown",
   "id": "impressive-priority",
   "metadata": {},
   "source": [
    "#### Get the number of columns with low variance"
   ]
  },
  {
   "cell_type": "code",
   "execution_count": 12,
   "id": "classified-advance",
   "metadata": {},
   "outputs": [
    {
     "name": "stdout",
     "output_type": "stream",
     "text": [
      "Nb. with low-variance:  277\n",
      "Nb. with sufficient variance:  1598\n"
     ]
    }
   ],
   "source": [
    "constant_columns = [column for column in X_train_std.columns\n",
    "                    if column not in X_train_std.columns[selector.get_support()]]\n",
    "print('Nb. with low-variance: ', len(constant_columns))\n",
    "print('Nb. with sufficient variance: ', sum(selector.get_support()))"
   ]
  },
  {
   "cell_type": "markdown",
   "id": "finite-raleigh",
   "metadata": {},
   "source": [
    "#### Get the number of columns with sufficient variance"
   ]
  },
  {
   "cell_type": "code",
   "execution_count": 13,
   "id": "norwegian-portsmouth",
   "metadata": {},
   "outputs": [
    {
     "name": "stdout",
     "output_type": "stream",
     "text": [
      "Shape of StandardScaler train set (614, 1598)\n",
      "Shape of StandardScaler test set (154, 1598)\n"
     ]
    }
   ],
   "source": [
    "X_train_std_var = X_train_std.drop(constant_columns,axis=1)\n",
    "X_test_std_var = X_test_std.drop(constant_columns,axis=1)\n",
    "print('Shape of StandardScaler train set', X_train_std_var.shape)\n",
    "print('Shape of StandardScaler test set', X_test_std_var.shape)"
   ]
  },
  {
   "cell_type": "markdown",
   "id": "annoying-speed",
   "metadata": {},
   "source": [
    "##  Remove Low-Variance Features in the RobustScaler Data"
   ]
  },
  {
   "cell_type": "code",
   "execution_count": 14,
   "id": "moderate-necklace",
   "metadata": {},
   "outputs": [
    {
     "data": {
      "text/plain": [
       "Index(['nAcid', 'ALogP', 'ALogp2', 'AMR', 'apol', 'nAtom', 'nHeavyAtom', 'nH',\n",
       "       'nC', 'nN',\n",
       "       ...\n",
       "       'L1s', 'L2s', 'L3s', 'E1s', 'E2s', 'E3s', 'Ts', 'As', 'Vs', 'Ds'],\n",
       "      dtype='object', length=1372)"
      ]
     },
     "execution_count": 14,
     "metadata": {},
     "output_type": "execute_result"
    }
   ],
   "source": [
    "#Threshold estimate from plot\n",
    "threshold = 0.5\n",
    "selector = VarianceThreshold(threshold)\n",
    "selector.fit_transform(X_train_rob)\n",
    "X_train_rob.columns[selector.get_support()]"
   ]
  },
  {
   "cell_type": "markdown",
   "id": "stunning-stomach",
   "metadata": {},
   "source": [
    "#### Get the number of columns with low variance"
   ]
  },
  {
   "cell_type": "code",
   "execution_count": 15,
   "id": "indirect-leader",
   "metadata": {},
   "outputs": [
    {
     "name": "stdout",
     "output_type": "stream",
     "text": [
      "Nb. with low-variance:  503\n",
      "Nb. with sufficient variance:  1372\n"
     ]
    }
   ],
   "source": [
    "constant_columns = [column for column in X_train_rob.columns\n",
    "                    if column not in X_train_rob.columns[selector.get_support()]]\n",
    "print('Nb. with low-variance: ', len(constant_columns))\n",
    "print('Nb. with sufficient variance: ', sum(selector.get_support()))"
   ]
  },
  {
   "cell_type": "markdown",
   "id": "passive-mustang",
   "metadata": {},
   "source": [
    "#### Get the number of columns with sufficient variance"
   ]
  },
  {
   "cell_type": "code",
   "execution_count": 16,
   "id": "historical-porter",
   "metadata": {},
   "outputs": [
    {
     "name": "stdout",
     "output_type": "stream",
     "text": [
      "Shape of RobustScaler train set (614, 1372)\n",
      "Shape of RobustScaler test set (154, 1372)\n"
     ]
    }
   ],
   "source": [
    "X_train_rob_var = X_train_rob.drop(constant_columns,axis=1)\n",
    "X_test_rob_var = X_test_rob.drop(constant_columns,axis=1)\n",
    "print('Shape of RobustScaler train set', X_train_rob_var.shape)\n",
    "print('Shape of RobustScaler test set', X_test_rob_var.shape)"
   ]
  },
  {
   "cell_type": "markdown",
   "id": "personal-panic",
   "metadata": {},
   "source": [
    "## Export / Save for Next Working Step"
   ]
  },
  {
   "cell_type": "markdown",
   "id": "active-ontario",
   "metadata": {},
   "source": [
    "### Data from MinMaxScaler"
   ]
  },
  {
   "cell_type": "code",
   "execution_count": 17,
   "id": "burning-amount",
   "metadata": {},
   "outputs": [],
   "source": [
    "exobj_mima = (X_train_minmax_var, X_test_minmax_var, y_train, y_test)\n",
    "timestamp = dt.now().strftime(\"%Y%m%d_%H%M%S\")\n",
    "filename = '../pickles/lowthreshold_MinMaxScaler_%s.pickle' %timestamp\n",
    "filehandler = open(filename, 'wb')\n",
    "pickle.dump(exobj_mima, filehandler)"
   ]
  },
  {
   "cell_type": "markdown",
   "id": "detected-minnesota",
   "metadata": {},
   "source": [
    "### Data from StandardScaler"
   ]
  },
  {
   "cell_type": "code",
   "execution_count": 18,
   "id": "lyric-handling",
   "metadata": {},
   "outputs": [],
   "source": [
    "exobj_std = (X_train_std_var, X_test_std_var, y_train, y_test)\n",
    "timestamp = dt.now().strftime(\"%Y%m%d_%H%M%S\")\n",
    "filename = '../pickles/lowthreshold_StandardScaler_%s.pickle' %timestamp\n",
    "filehandler = open(filename, 'wb')\n",
    "pickle.dump(exobj_std, filehandler)"
   ]
  },
  {
   "cell_type": "markdown",
   "id": "geographic-constraint",
   "metadata": {},
   "source": [
    "### Data from RobustScaler"
   ]
  },
  {
   "cell_type": "code",
   "execution_count": 19,
   "id": "naval-introduction",
   "metadata": {},
   "outputs": [],
   "source": [
    "exobj_rob = (X_train_rob_var, X_test_rob_var, y_train, y_test)\n",
    "timestamp = dt.now().strftime(\"%Y%m%d_%H%M%S\")\n",
    "filename = '../pickles/lowthreshold_RobustScaler_%s.pickle' %timestamp\n",
    "filehandler = open(filename, 'wb')\n",
    "pickle.dump(exobj_rob, filehandler)"
   ]
  }
 ],
 "metadata": {
  "kernelspec": {
   "display_name": "Python 3",
   "language": "python",
   "name": "python3"
  },
  "language_info": {
   "codemirror_mode": {
    "name": "ipython",
    "version": 3
   },
   "file_extension": ".py",
   "mimetype": "text/x-python",
   "name": "python",
   "nbconvert_exporter": "python",
   "pygments_lexer": "ipython3",
   "version": "3.8.8"
  }
 },
 "nbformat": 4,
 "nbformat_minor": 5
}
