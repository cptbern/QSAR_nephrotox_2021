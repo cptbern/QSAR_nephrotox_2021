{
 "cells": [
  {
   "cell_type": "markdown",
   "id": "3eb71c21",
   "metadata": {},
   "source": [
    "# Spliting of the Dataset and Scaling\n"
   ]
  },
  {
   "cell_type": "markdown",
   "id": "aaae24ad",
   "metadata": {},
   "source": [
    "## Packages"
   ]
  },
  {
   "cell_type": "code",
   "execution_count": 1,
   "id": "5b08ac5b",
   "metadata": {},
   "outputs": [],
   "source": [
    "import pandas as pd\n",
    "import numpy as np\n",
    "import pickle\n",
    "from datetime import datetime as dt\n",
    "\n",
    "# Scikit-Learn\n",
    "from sklearn.model_selection import train_test_split\n",
    "from sklearn.preprocessing import MinMaxScaler \n",
    "from sklearn.preprocessing import StandardScaler\n",
    "from sklearn.preprocessing import RobustScaler"
   ]
  },
  {
   "cell_type": "markdown",
   "id": "17c54126",
   "metadata": {},
   "source": [
    "## Load Data\n",
    "Read list of drugs with molecular descriptors and remove all entries containing NaN or values showing infinit size"
   ]
  },
  {
   "cell_type": "code",
   "execution_count": 2,
   "id": "49132f84",
   "metadata": {},
   "outputs": [],
   "source": [
    "file = '../../../nephrosan/molwork/babelfromdruglist.csv'\n",
    "df = pd.read_csv(file, low_memory = False)\n",
    "df= df.replace(['#NAME?', np.inf, -np.inf, 'inf', '-inf', 'nan'], np.nan)\n",
    "df.dropna(axis=0, how='any', inplace=True)"
   ]
  },
  {
   "cell_type": "markdown",
   "id": "fa0f3e9d",
   "metadata": {},
   "source": [
    "## Train Test Split\n",
    "Remove features which are not molecular descriptors from the dataset. Move the outcome \"NEPHROTOXIC\" into a separate array. Then split data set into training and test set."
   ]
  },
  {
   "cell_type": "code",
   "execution_count": 3,
   "id": "289514dc",
   "metadata": {},
   "outputs": [],
   "source": [
    "# Split data set in feature and target\n",
    "X = df.drop(labels=['Drug', 'NEPHROTOXIC', 'Isomeric_smiles'], axis=1)\n",
    "X = X.astype(float)\n",
    "y1 = df[['Drug', 'Isomeric_smiles']]\n",
    "y2 = df[['NEPHROTOXIC']]"
   ]
  },
  {
   "cell_type": "code",
   "execution_count": 4,
   "id": "2308009b",
   "metadata": {},
   "outputs": [],
   "source": [
    "# Split data set in training and test set. 20% of data will be moved to the test set.\n",
    "X_train, X_test, y_train, y_test = train_test_split(\n",
    "    X, y2,\n",
    "    test_size=0.2,\n",
    "    random_state=78)"
   ]
  },
  {
   "cell_type": "markdown",
   "id": "9d13be16",
   "metadata": {},
   "source": [
    "## Scaling\n",
    "Perform the scaling using the training data. Transform the test data using the scales from the training data.\n",
    "\n",
    "### MinMaxScaler"
   ]
  },
  {
   "cell_type": "code",
   "execution_count": 5,
   "id": "d9b344ca",
   "metadata": {},
   "outputs": [],
   "source": [
    "scaler = MinMaxScaler()\n",
    "X_train_minmax = pd.DataFrame(scaler.fit_transform(X_train), columns = X_train.columns, index=X_train.index)\n",
    "X_test_minmax = pd.DataFrame(scaler.transform(X_test), columns = X_test.columns, index=X_test.index)"
   ]
  },
  {
   "cell_type": "markdown",
   "id": "7e1340ba",
   "metadata": {},
   "source": [
    "### StandardScaler"
   ]
  },
  {
   "cell_type": "code",
   "execution_count": 6,
   "id": "8825496b",
   "metadata": {},
   "outputs": [],
   "source": [
    "scaler = StandardScaler()\n",
    "X_train_std = pd.DataFrame(scaler.fit_transform(X_train), columns = X_train.columns, index=X_train.index)\n",
    "X_test_std = pd.DataFrame(scaler.transform(X_test), columns = X_test.columns, index=X_test.index)"
   ]
  },
  {
   "cell_type": "markdown",
   "id": "db2888fb",
   "metadata": {},
   "source": [
    "### RobustScaler"
   ]
  },
  {
   "cell_type": "code",
   "execution_count": 7,
   "id": "6c92610d",
   "metadata": {},
   "outputs": [],
   "source": [
    "scaler = RobustScaler()\n",
    "X_train_rob = pd.DataFrame(scaler.fit_transform(X_train), columns = X_train.columns, index=X_train.index)\n",
    "X_test_rob = pd.DataFrame(scaler.transform(X_test), columns = X_test.columns, index=X_test.index)"
   ]
  },
  {
   "cell_type": "markdown",
   "id": "80eb01a9",
   "metadata": {},
   "source": [
    "## Export / Save for Next Working Step\n",
    "### MinMaxScaler"
   ]
  },
  {
   "cell_type": "code",
   "execution_count": 8,
   "id": "670c41f1",
   "metadata": {},
   "outputs": [],
   "source": [
    "exobj = (X_train_minmax, X_test_minmax, y_train, y_test)\n",
    "timestamp = dt.now().strftime(\"%Y%m%d_%H%M%S\")\n",
    "filename = '../pickles/MinMaxScaler_%s.pickle' %timestamp\n",
    "filehandler = open(filename, 'wb')\n",
    "pickle.dump(exobj, filehandler)"
   ]
  },
  {
   "cell_type": "markdown",
   "id": "3e07dfa7",
   "metadata": {},
   "source": [
    "### StandardScaler"
   ]
  },
  {
   "cell_type": "code",
   "execution_count": 9,
   "id": "2a02583c",
   "metadata": {},
   "outputs": [],
   "source": [
    "exobj = (X_train_std, X_test_std, y_train, y_test)\n",
    "timestamp = dt.now().strftime(\"%Y%m%d_%H%M%S\")\n",
    "filename = '../pickles/StandardScaler_%s.pickle' %timestamp\n",
    "filehandler = open(filename, 'wb')\n",
    "pickle.dump(exobj, filehandler)"
   ]
  },
  {
   "cell_type": "markdown",
   "id": "58509001",
   "metadata": {},
   "source": [
    "### RobustScaler"
   ]
  },
  {
   "cell_type": "code",
   "execution_count": 10,
   "id": "e381993a",
   "metadata": {},
   "outputs": [],
   "source": [
    "exobj = (X_train_rob, X_test_rob, y_train, y_test)\n",
    "timestamp = dt.now().strftime(\"%Y%m%d_%H%M%S\")\n",
    "filename = '../pickles/RobustScaler_%s.pickle' %timestamp\n",
    "filehandler = open(filename, 'wb')\n",
    "pickle.dump(exobj, filehandler)"
   ]
  }
 ],
 "metadata": {
  "kernelspec": {
   "display_name": "Python 3",
   "language": "python",
   "name": "python3"
  },
  "language_info": {
   "codemirror_mode": {
    "name": "ipython",
    "version": 3
   },
   "file_extension": ".py",
   "mimetype": "text/x-python",
   "name": "python",
   "nbconvert_exporter": "python",
   "pygments_lexer": "ipython3",
   "version": "3.8.8"
  }
 },
 "nbformat": 4,
 "nbformat_minor": 5
}
