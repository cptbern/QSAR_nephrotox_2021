{
 "cells": [
  {
   "cell_type": "markdown",
   "id": "d54eada1",
   "metadata": {},
   "source": [
    "# SVM with Smote Data from RobustScaler -- Linear Kernel different C-Values"
   ]
  },
  {
   "cell_type": "code",
   "execution_count": 1,
   "id": "9c32e57f",
   "metadata": {},
   "outputs": [],
   "source": [
    "import pickle\n",
    "import numpy as np\n",
    "from datetime import datetime as dt\n",
    "import itertools\n",
    "\n",
    "from sklearn.svm import SVC\n",
    "\n",
    "from sklearn.metrics import confusion_matrix\n",
    "from sklearn.metrics import accuracy_score\n",
    "from sklearn.metrics import roc_auc_score\n",
    "from sklearn.metrics import balanced_accuracy_score\n",
    "from sklearn.metrics import f1_score\n",
    "from sklearn.metrics import recall_score\n",
    "from sklearn.metrics import precision_score\n",
    "from sklearn.metrics import make_scorer\n",
    "from sklearn.metrics import roc_curve, auc\n",
    "\n",
    "import matplotlib.pyplot as plt\n",
    "\n",
    "from sklearn.model_selection import GridSearchCV\n",
    "from sklearn.model_selection import RandomizedSearchCV\n",
    "from sklearn.model_selection import StratifiedKFold\n",
    "from sklearn.model_selection import StratifiedShuffleSplit\n",
    "from sklearn.model_selection import cross_val_score\n",
    "from sklearn.model_selection import cross_validate"
   ]
  },
  {
   "cell_type": "code",
   "execution_count": 2,
   "id": "69bd8a12",
   "metadata": {},
   "outputs": [],
   "source": [
    "# import dataset from pickle\n",
    "X_train, X_test, y_train, y_test = pickle.load( open( \"../../pickles/intercorr_app2_RobustScaler_smote_20210711_215123.pickle\", \"rb\" ) )"
   ]
  },
  {
   "cell_type": "markdown",
   "id": "c94962ac",
   "metadata": {},
   "source": [
    "### Define Scoring functions for cross_validation"
   ]
  },
  {
   "cell_type": "code",
   "execution_count": 3,
   "id": "2b4c8172",
   "metadata": {},
   "outputs": [],
   "source": [
    "scoring = {'accuracy': 'accuracy',\n",
    "           'bal_acc' : 'balanced_accuracy',\n",
    "           'f1' : 'f1',\n",
    "           'recall': 'recall',\n",
    "           'precision' : 'precision',\n",
    "           'roc_auc' : 'roc_auc',\n",
    "           'specificity' : make_scorer(recall_score, pos_label=0),\n",
    "           }"
   ]
  },
  {
   "cell_type": "code",
   "execution_count": 4,
   "id": "b9d41376",
   "metadata": {},
   "outputs": [],
   "source": [
    "def average_score_on_cross_val_classification(clf, X, y, scoring=scoring, cv=StratifiedShuffleSplit(25)):\n",
    "    # Score metrics on cross-validated dataset\n",
    "    scores_dict = cross_validate(clf, X, y, scoring=scoring, cv=cv, n_jobs=-1)\n",
    "\n",
    "    # return the average scores for each metric\n",
    "    return {metric: round(np.mean(scores), 5) for metric, scores in scores_dict.items()}"
   ]
  },
  {
   "cell_type": "markdown",
   "id": "9c7358a8",
   "metadata": {},
   "source": [
    "### Evaluate with Test Data"
   ]
  },
  {
   "cell_type": "code",
   "execution_count": 5,
   "id": "5ed6438d",
   "metadata": {},
   "outputs": [],
   "source": [
    "def calc_test_scores(y_test, y_predicted):\n",
    "    test_scores = {'Balanced Accuracy' : balanced_accuracy_score(y_test, y_predicted),\n",
    "                   'Accuracy': accuracy_score(y_test, y_predicted),\n",
    "                   'ROC_AUC': roc_auc_score(y_test, y_predicted),\n",
    "                   'f1_score': f1_score(y_test, y_predicted),\n",
    "                   'recall_score' : recall_score(y_test, y_predicted),\n",
    "                   'specificity_score' : recall_score(y_test, y_predicted, pos_label=0),\n",
    "                   'precision_score' : precision_score(y_test, y_predicted),\n",
    "    }\n",
    "    return test_scores\n",
    "\n",
    "\n",
    "def validate_against_test(obj, X_test, y_test):\n",
    "    y_predicted = obj.predict(X_test)\n",
    "    cm = confusion_matrix(y_test, y_predicted)\n",
    "    scores = calc_test_scores(y_test, y_predicted)\n",
    "    return scores, cm"
   ]
  },
  {
   "cell_type": "markdown",
   "id": "79c3218c",
   "metadata": {},
   "source": [
    "### Calculations"
   ]
  },
  {
   "cell_type": "code",
   "execution_count": 6,
   "id": "9c1be2e8",
   "metadata": {},
   "outputs": [],
   "source": [
    "# create a series of C-Values, where the gaps between successive C-values get larger\n",
    "def cseries(init, limit):\n",
    "    counter = 0\n",
    "    new = init\n",
    "    l = [0]\n",
    "    while True:\n",
    "        l.append(new)\n",
    "        new = l[counter]/4+l[counter+1]\n",
    "        counter += 1\n",
    "        if new >= limit*1.5:\n",
    "            break\n",
    "    cparam = l[2:]\n",
    "\n",
    "    return cparam"
   ]
  },
  {
   "cell_type": "code",
   "execution_count": 7,
   "id": "20221892",
   "metadata": {},
   "outputs": [
    {
     "ename": "KeyboardInterrupt",
     "evalue": "",
     "output_type": "error",
     "traceback": [
      "\u001b[0;31m---------------------------------------------------------------------------\u001b[0m",
      "\u001b[0;31mKeyboardInterrupt\u001b[0m                         Traceback (most recent call last)",
      "\u001b[0;32m<ipython-input-7-800a7752027a>\u001b[0m in \u001b[0;36m<module>\u001b[0;34m\u001b[0m\n\u001b[1;32m     15\u001b[0m \u001b[0;34m\u001b[0m\u001b[0m\n\u001b[1;32m     16\u001b[0m     \u001b[0mclf\u001b[0m \u001b[0;34m=\u001b[0m \u001b[0mSVC\u001b[0m\u001b[0;34m(\u001b[0m\u001b[0mkernel\u001b[0m\u001b[0;34m=\u001b[0m \u001b[0mkern\u001b[0m\u001b[0;34m,\u001b[0m \u001b[0mC\u001b[0m\u001b[0;34m=\u001b[0m\u001b[0mval\u001b[0m\u001b[0;34m)\u001b[0m\u001b[0;34m\u001b[0m\u001b[0;34m\u001b[0m\u001b[0m\n\u001b[0;32m---> 17\u001b[0;31m     \u001b[0mcross_results\u001b[0m \u001b[0;34m=\u001b[0m \u001b[0maverage_score_on_cross_val_classification\u001b[0m\u001b[0;34m(\u001b[0m\u001b[0mclf\u001b[0m\u001b[0;34m,\u001b[0m \u001b[0mX_train\u001b[0m\u001b[0;34m,\u001b[0m \u001b[0my_train\u001b[0m\u001b[0;34m)\u001b[0m\u001b[0;34m\u001b[0m\u001b[0;34m\u001b[0m\u001b[0m\n\u001b[0m\u001b[1;32m     18\u001b[0m     \u001b[0mclf\u001b[0m \u001b[0;34m=\u001b[0m \u001b[0mclf\u001b[0m\u001b[0;34m.\u001b[0m\u001b[0mfit\u001b[0m\u001b[0;34m(\u001b[0m\u001b[0mX_train\u001b[0m\u001b[0;34m,\u001b[0m \u001b[0my_train\u001b[0m\u001b[0;34m)\u001b[0m\u001b[0;34m\u001b[0m\u001b[0;34m\u001b[0m\u001b[0m\n\u001b[1;32m     19\u001b[0m     \u001b[0mscores_testdata\u001b[0m\u001b[0;34m,\u001b[0m \u001b[0mconfmatrix\u001b[0m \u001b[0;34m=\u001b[0m \u001b[0mvalidate_against_test\u001b[0m\u001b[0;34m(\u001b[0m\u001b[0mclf\u001b[0m\u001b[0;34m,\u001b[0m \u001b[0mX_test\u001b[0m\u001b[0;34m,\u001b[0m \u001b[0my_test\u001b[0m\u001b[0;34m)\u001b[0m\u001b[0;34m\u001b[0m\u001b[0;34m\u001b[0m\u001b[0m\n",
      "\u001b[0;32m<ipython-input-4-83096dd57212>\u001b[0m in \u001b[0;36maverage_score_on_cross_val_classification\u001b[0;34m(clf, X, y, scoring, cv)\u001b[0m\n\u001b[1;32m      1\u001b[0m \u001b[0;32mdef\u001b[0m \u001b[0maverage_score_on_cross_val_classification\u001b[0m\u001b[0;34m(\u001b[0m\u001b[0mclf\u001b[0m\u001b[0;34m,\u001b[0m \u001b[0mX\u001b[0m\u001b[0;34m,\u001b[0m \u001b[0my\u001b[0m\u001b[0;34m,\u001b[0m \u001b[0mscoring\u001b[0m\u001b[0;34m=\u001b[0m\u001b[0mscoring\u001b[0m\u001b[0;34m,\u001b[0m \u001b[0mcv\u001b[0m\u001b[0;34m=\u001b[0m\u001b[0mStratifiedShuffleSplit\u001b[0m\u001b[0;34m(\u001b[0m\u001b[0;36m25\u001b[0m\u001b[0;34m)\u001b[0m\u001b[0;34m)\u001b[0m\u001b[0;34m:\u001b[0m\u001b[0;34m\u001b[0m\u001b[0;34m\u001b[0m\u001b[0m\n\u001b[1;32m      2\u001b[0m     \u001b[0;31m# Score metrics on cross-validated dataset\u001b[0m\u001b[0;34m\u001b[0m\u001b[0;34m\u001b[0m\u001b[0;34m\u001b[0m\u001b[0m\n\u001b[0;32m----> 3\u001b[0;31m     \u001b[0mscores_dict\u001b[0m \u001b[0;34m=\u001b[0m \u001b[0mcross_validate\u001b[0m\u001b[0;34m(\u001b[0m\u001b[0mclf\u001b[0m\u001b[0;34m,\u001b[0m \u001b[0mX\u001b[0m\u001b[0;34m,\u001b[0m \u001b[0my\u001b[0m\u001b[0;34m,\u001b[0m \u001b[0mscoring\u001b[0m\u001b[0;34m=\u001b[0m\u001b[0mscoring\u001b[0m\u001b[0;34m,\u001b[0m \u001b[0mcv\u001b[0m\u001b[0;34m=\u001b[0m\u001b[0mcv\u001b[0m\u001b[0;34m,\u001b[0m \u001b[0mn_jobs\u001b[0m\u001b[0;34m=\u001b[0m\u001b[0;34m-\u001b[0m\u001b[0;36m1\u001b[0m\u001b[0;34m)\u001b[0m\u001b[0;34m\u001b[0m\u001b[0;34m\u001b[0m\u001b[0m\n\u001b[0m\u001b[1;32m      4\u001b[0m \u001b[0;34m\u001b[0m\u001b[0m\n\u001b[1;32m      5\u001b[0m     \u001b[0;31m# return the average scores for each metric\u001b[0m\u001b[0;34m\u001b[0m\u001b[0;34m\u001b[0m\u001b[0;34m\u001b[0m\u001b[0m\n",
      "\u001b[0;32m/opt/anaconda3/lib/python3.8/site-packages/sklearn/utils/validation.py\u001b[0m in \u001b[0;36minner_f\u001b[0;34m(*args, **kwargs)\u001b[0m\n\u001b[1;32m     61\u001b[0m             \u001b[0mextra_args\u001b[0m \u001b[0;34m=\u001b[0m \u001b[0mlen\u001b[0m\u001b[0;34m(\u001b[0m\u001b[0margs\u001b[0m\u001b[0;34m)\u001b[0m \u001b[0;34m-\u001b[0m \u001b[0mlen\u001b[0m\u001b[0;34m(\u001b[0m\u001b[0mall_args\u001b[0m\u001b[0;34m)\u001b[0m\u001b[0;34m\u001b[0m\u001b[0;34m\u001b[0m\u001b[0m\n\u001b[1;32m     62\u001b[0m             \u001b[0;32mif\u001b[0m \u001b[0mextra_args\u001b[0m \u001b[0;34m<=\u001b[0m \u001b[0;36m0\u001b[0m\u001b[0;34m:\u001b[0m\u001b[0;34m\u001b[0m\u001b[0;34m\u001b[0m\u001b[0m\n\u001b[0;32m---> 63\u001b[0;31m                 \u001b[0;32mreturn\u001b[0m \u001b[0mf\u001b[0m\u001b[0;34m(\u001b[0m\u001b[0;34m*\u001b[0m\u001b[0margs\u001b[0m\u001b[0;34m,\u001b[0m \u001b[0;34m**\u001b[0m\u001b[0mkwargs\u001b[0m\u001b[0;34m)\u001b[0m\u001b[0;34m\u001b[0m\u001b[0;34m\u001b[0m\u001b[0m\n\u001b[0m\u001b[1;32m     64\u001b[0m \u001b[0;34m\u001b[0m\u001b[0m\n\u001b[1;32m     65\u001b[0m             \u001b[0;31m# extra_args > 0\u001b[0m\u001b[0;34m\u001b[0m\u001b[0;34m\u001b[0m\u001b[0;34m\u001b[0m\u001b[0m\n",
      "\u001b[0;32m/opt/anaconda3/lib/python3.8/site-packages/sklearn/model_selection/_validation.py\u001b[0m in \u001b[0;36mcross_validate\u001b[0;34m(estimator, X, y, groups, scoring, cv, n_jobs, verbose, fit_params, pre_dispatch, return_train_score, return_estimator, error_score)\u001b[0m\n\u001b[1;32m    244\u001b[0m     parallel = Parallel(n_jobs=n_jobs, verbose=verbose,\n\u001b[1;32m    245\u001b[0m                         pre_dispatch=pre_dispatch)\n\u001b[0;32m--> 246\u001b[0;31m     results = parallel(\n\u001b[0m\u001b[1;32m    247\u001b[0m         delayed(_fit_and_score)(\n\u001b[1;32m    248\u001b[0m             \u001b[0mclone\u001b[0m\u001b[0;34m(\u001b[0m\u001b[0mestimator\u001b[0m\u001b[0;34m)\u001b[0m\u001b[0;34m,\u001b[0m \u001b[0mX\u001b[0m\u001b[0;34m,\u001b[0m \u001b[0my\u001b[0m\u001b[0;34m,\u001b[0m \u001b[0mscorers\u001b[0m\u001b[0;34m,\u001b[0m \u001b[0mtrain\u001b[0m\u001b[0;34m,\u001b[0m \u001b[0mtest\u001b[0m\u001b[0;34m,\u001b[0m \u001b[0mverbose\u001b[0m\u001b[0;34m,\u001b[0m \u001b[0;32mNone\u001b[0m\u001b[0;34m,\u001b[0m\u001b[0;34m\u001b[0m\u001b[0;34m\u001b[0m\u001b[0m\n",
      "\u001b[0;32m/opt/anaconda3/lib/python3.8/site-packages/joblib/parallel.py\u001b[0m in \u001b[0;36m__call__\u001b[0;34m(self, iterable)\u001b[0m\n\u001b[1;32m   1052\u001b[0m \u001b[0;34m\u001b[0m\u001b[0m\n\u001b[1;32m   1053\u001b[0m             \u001b[0;32mwith\u001b[0m \u001b[0mself\u001b[0m\u001b[0;34m.\u001b[0m\u001b[0m_backend\u001b[0m\u001b[0;34m.\u001b[0m\u001b[0mretrieval_context\u001b[0m\u001b[0;34m(\u001b[0m\u001b[0;34m)\u001b[0m\u001b[0;34m:\u001b[0m\u001b[0;34m\u001b[0m\u001b[0;34m\u001b[0m\u001b[0m\n\u001b[0;32m-> 1054\u001b[0;31m                 \u001b[0mself\u001b[0m\u001b[0;34m.\u001b[0m\u001b[0mretrieve\u001b[0m\u001b[0;34m(\u001b[0m\u001b[0;34m)\u001b[0m\u001b[0;34m\u001b[0m\u001b[0;34m\u001b[0m\u001b[0m\n\u001b[0m\u001b[1;32m   1055\u001b[0m             \u001b[0;31m# Make sure that we get a last message telling us we are done\u001b[0m\u001b[0;34m\u001b[0m\u001b[0;34m\u001b[0m\u001b[0;34m\u001b[0m\u001b[0m\n\u001b[1;32m   1056\u001b[0m             \u001b[0melapsed_time\u001b[0m \u001b[0;34m=\u001b[0m \u001b[0mtime\u001b[0m\u001b[0;34m.\u001b[0m\u001b[0mtime\u001b[0m\u001b[0;34m(\u001b[0m\u001b[0;34m)\u001b[0m \u001b[0;34m-\u001b[0m \u001b[0mself\u001b[0m\u001b[0;34m.\u001b[0m\u001b[0m_start_time\u001b[0m\u001b[0;34m\u001b[0m\u001b[0;34m\u001b[0m\u001b[0m\n",
      "\u001b[0;32m/opt/anaconda3/lib/python3.8/site-packages/joblib/parallel.py\u001b[0m in \u001b[0;36mretrieve\u001b[0;34m(self)\u001b[0m\n\u001b[1;32m    931\u001b[0m             \u001b[0;32mtry\u001b[0m\u001b[0;34m:\u001b[0m\u001b[0;34m\u001b[0m\u001b[0;34m\u001b[0m\u001b[0m\n\u001b[1;32m    932\u001b[0m                 \u001b[0;32mif\u001b[0m \u001b[0mgetattr\u001b[0m\u001b[0;34m(\u001b[0m\u001b[0mself\u001b[0m\u001b[0;34m.\u001b[0m\u001b[0m_backend\u001b[0m\u001b[0;34m,\u001b[0m \u001b[0;34m'supports_timeout'\u001b[0m\u001b[0;34m,\u001b[0m \u001b[0;32mFalse\u001b[0m\u001b[0;34m)\u001b[0m\u001b[0;34m:\u001b[0m\u001b[0;34m\u001b[0m\u001b[0;34m\u001b[0m\u001b[0m\n\u001b[0;32m--> 933\u001b[0;31m                     \u001b[0mself\u001b[0m\u001b[0;34m.\u001b[0m\u001b[0m_output\u001b[0m\u001b[0;34m.\u001b[0m\u001b[0mextend\u001b[0m\u001b[0;34m(\u001b[0m\u001b[0mjob\u001b[0m\u001b[0;34m.\u001b[0m\u001b[0mget\u001b[0m\u001b[0;34m(\u001b[0m\u001b[0mtimeout\u001b[0m\u001b[0;34m=\u001b[0m\u001b[0mself\u001b[0m\u001b[0;34m.\u001b[0m\u001b[0mtimeout\u001b[0m\u001b[0;34m)\u001b[0m\u001b[0;34m)\u001b[0m\u001b[0;34m\u001b[0m\u001b[0;34m\u001b[0m\u001b[0m\n\u001b[0m\u001b[1;32m    934\u001b[0m                 \u001b[0;32melse\u001b[0m\u001b[0;34m:\u001b[0m\u001b[0;34m\u001b[0m\u001b[0;34m\u001b[0m\u001b[0m\n\u001b[1;32m    935\u001b[0m                     \u001b[0mself\u001b[0m\u001b[0;34m.\u001b[0m\u001b[0m_output\u001b[0m\u001b[0;34m.\u001b[0m\u001b[0mextend\u001b[0m\u001b[0;34m(\u001b[0m\u001b[0mjob\u001b[0m\u001b[0;34m.\u001b[0m\u001b[0mget\u001b[0m\u001b[0;34m(\u001b[0m\u001b[0;34m)\u001b[0m\u001b[0;34m)\u001b[0m\u001b[0;34m\u001b[0m\u001b[0;34m\u001b[0m\u001b[0m\n",
      "\u001b[0;32m/opt/anaconda3/lib/python3.8/site-packages/joblib/_parallel_backends.py\u001b[0m in \u001b[0;36mwrap_future_result\u001b[0;34m(future, timeout)\u001b[0m\n\u001b[1;32m    540\u001b[0m         AsyncResults.get from multiprocessing.\"\"\"\n\u001b[1;32m    541\u001b[0m         \u001b[0;32mtry\u001b[0m\u001b[0;34m:\u001b[0m\u001b[0;34m\u001b[0m\u001b[0;34m\u001b[0m\u001b[0m\n\u001b[0;32m--> 542\u001b[0;31m             \u001b[0;32mreturn\u001b[0m \u001b[0mfuture\u001b[0m\u001b[0;34m.\u001b[0m\u001b[0mresult\u001b[0m\u001b[0;34m(\u001b[0m\u001b[0mtimeout\u001b[0m\u001b[0;34m=\u001b[0m\u001b[0mtimeout\u001b[0m\u001b[0;34m)\u001b[0m\u001b[0;34m\u001b[0m\u001b[0;34m\u001b[0m\u001b[0m\n\u001b[0m\u001b[1;32m    543\u001b[0m         \u001b[0;32mexcept\u001b[0m \u001b[0mCfTimeoutError\u001b[0m \u001b[0;32mas\u001b[0m \u001b[0me\u001b[0m\u001b[0;34m:\u001b[0m\u001b[0;34m\u001b[0m\u001b[0;34m\u001b[0m\u001b[0m\n\u001b[1;32m    544\u001b[0m             \u001b[0;32mraise\u001b[0m \u001b[0mTimeoutError\u001b[0m \u001b[0;32mfrom\u001b[0m \u001b[0me\u001b[0m\u001b[0;34m\u001b[0m\u001b[0;34m\u001b[0m\u001b[0m\n",
      "\u001b[0;32m/opt/anaconda3/lib/python3.8/concurrent/futures/_base.py\u001b[0m in \u001b[0;36mresult\u001b[0;34m(self, timeout)\u001b[0m\n\u001b[1;32m    432\u001b[0m                 \u001b[0;32mreturn\u001b[0m \u001b[0mself\u001b[0m\u001b[0;34m.\u001b[0m\u001b[0m__get_result\u001b[0m\u001b[0;34m(\u001b[0m\u001b[0;34m)\u001b[0m\u001b[0;34m\u001b[0m\u001b[0;34m\u001b[0m\u001b[0m\n\u001b[1;32m    433\u001b[0m \u001b[0;34m\u001b[0m\u001b[0m\n\u001b[0;32m--> 434\u001b[0;31m             \u001b[0mself\u001b[0m\u001b[0;34m.\u001b[0m\u001b[0m_condition\u001b[0m\u001b[0;34m.\u001b[0m\u001b[0mwait\u001b[0m\u001b[0;34m(\u001b[0m\u001b[0mtimeout\u001b[0m\u001b[0;34m)\u001b[0m\u001b[0;34m\u001b[0m\u001b[0;34m\u001b[0m\u001b[0m\n\u001b[0m\u001b[1;32m    435\u001b[0m \u001b[0;34m\u001b[0m\u001b[0m\n\u001b[1;32m    436\u001b[0m             \u001b[0;32mif\u001b[0m \u001b[0mself\u001b[0m\u001b[0;34m.\u001b[0m\u001b[0m_state\u001b[0m \u001b[0;32min\u001b[0m \u001b[0;34m[\u001b[0m\u001b[0mCANCELLED\u001b[0m\u001b[0;34m,\u001b[0m \u001b[0mCANCELLED_AND_NOTIFIED\u001b[0m\u001b[0;34m]\u001b[0m\u001b[0;34m:\u001b[0m\u001b[0;34m\u001b[0m\u001b[0;34m\u001b[0m\u001b[0m\n",
      "\u001b[0;32m/opt/anaconda3/lib/python3.8/threading.py\u001b[0m in \u001b[0;36mwait\u001b[0;34m(self, timeout)\u001b[0m\n\u001b[1;32m    300\u001b[0m         \u001b[0;32mtry\u001b[0m\u001b[0;34m:\u001b[0m    \u001b[0;31m# restore state no matter what (e.g., KeyboardInterrupt)\u001b[0m\u001b[0;34m\u001b[0m\u001b[0;34m\u001b[0m\u001b[0m\n\u001b[1;32m    301\u001b[0m             \u001b[0;32mif\u001b[0m \u001b[0mtimeout\u001b[0m \u001b[0;32mis\u001b[0m \u001b[0;32mNone\u001b[0m\u001b[0;34m:\u001b[0m\u001b[0;34m\u001b[0m\u001b[0;34m\u001b[0m\u001b[0m\n\u001b[0;32m--> 302\u001b[0;31m                 \u001b[0mwaiter\u001b[0m\u001b[0;34m.\u001b[0m\u001b[0macquire\u001b[0m\u001b[0;34m(\u001b[0m\u001b[0;34m)\u001b[0m\u001b[0;34m\u001b[0m\u001b[0;34m\u001b[0m\u001b[0m\n\u001b[0m\u001b[1;32m    303\u001b[0m                 \u001b[0mgotit\u001b[0m \u001b[0;34m=\u001b[0m \u001b[0;32mTrue\u001b[0m\u001b[0;34m\u001b[0m\u001b[0;34m\u001b[0m\u001b[0m\n\u001b[1;32m    304\u001b[0m             \u001b[0;32melse\u001b[0m\u001b[0;34m:\u001b[0m\u001b[0;34m\u001b[0m\u001b[0;34m\u001b[0m\u001b[0m\n",
      "\u001b[0;31mKeyboardInterrupt\u001b[0m: "
     ]
    }
   ],
   "source": [
    "start = dt.now()\n",
    "\n",
    "allres = []\n",
    "\n",
    "cparam = cseries(0.1, 100) \n",
    "\n",
    "jobs = -1\n",
    "rstate = 78\n",
    "kern = 'linear'\n",
    "\n",
    "val_res=[]\n",
    "\n",
    "values = cparam\n",
    "for val in values:\n",
    "\n",
    "    clf = SVC(kernel= kern, C=val)\n",
    "    cross_results = average_score_on_cross_val_classification(clf, X_train, y_train)\n",
    "    clf = clf.fit(X_train, y_train)\n",
    "    scores_testdata, confmatrix = validate_against_test(clf, X_test, y_test)\n",
    "    val_res.append((cross_results, scores_testdata, confmatrix,))\n",
    "allres.append(val_res)\n",
    "\n",
    "    \n",
    "end = dt.now()\n",
    "diff = end-start\n",
    "\n",
    "print('Duration of calculations: %s' %diff)"
   ]
  },
  {
   "cell_type": "markdown",
   "id": "e4eb388f",
   "metadata": {},
   "source": [
    "### Save results for export from cluster"
   ]
  },
  {
   "cell_type": "code",
   "execution_count": null,
   "id": "d6290b38",
   "metadata": {},
   "outputs": [],
   "source": [
    "out = (allres)\n",
    "timestamp = dt.now().strftime(\"%Y%m%d_%H%M%S\")\n",
    "filename = 'SVM_Robust_smote_linear_c_only_%s.pickle' %timestamp\n",
    "filehandler = open(filename, 'wb')\n",
    "pickle.dump(out, filehandler)"
   ]
  },
  {
   "cell_type": "markdown",
   "id": "371f1848",
   "metadata": {},
   "source": [
    "### Plot calculations"
   ]
  },
  {
   "cell_type": "code",
   "execution_count": null,
   "id": "841b8b3e",
   "metadata": {},
   "outputs": [],
   "source": [
    "weights = values\n",
    "\n",
    "fig, ax = plt.subplots(2,2 , figsize=(15,10))\n",
    "ax = ax.flatten()\n",
    "#for i, col in enumerate(columns):\n",
    "#sns.distplot(d2[col], ax=ax[i])\n",
    "#plt.subplots_adjust(hspace = 0.3)\n",
    "plt.subplots_adjust(left=None, bottom=None, right=None, top=0.9, wspace=None, hspace=0.25)\n",
    "fig.suptitle('SVM of Smote Data from RobustScaler with linear Kernel and various C-Values')\n",
    "for ra in np.arange(0,1,1):   \n",
    "    ax[2*ra].plot(weights, [r[0]['test_accuracy'] for r in allres[ra]], label='Accuarcy')\n",
    "    ax[2*ra].plot(weights, [r[0]['test_bal_acc'] for r in allres[ra]], label='Balanced Accuracy')\n",
    "    ax[2*ra].plot(weights, [r[0]['test_f1'] for r in allres[ra]], label='F1')\n",
    "    ax[2*ra].plot(weights, [r[0]['test_recall'] for r in allres[ra]], label='Recall')\n",
    "    ax[2*ra].plot(weights, [r[0]['test_precision'] for r in allres[ra]], label='Precision')\n",
    "    ax[2*ra].plot(weights, [r[0]['test_roc_auc'] for r in allres[ra]], label='ROC_AUC')\n",
    "    ax[2*ra].plot(weights, [r[0]['test_specificity'] for r in allres[ra]], label='Specificity')\n",
    "    ax[2*ra].set_title('Cross validation -- Different C Values')\n",
    "    ax[2*ra].legend(loc='lower right')\n",
    "    ax[2*ra].set_xlabel('C Value')\n",
    "    ax[2*ra].set_ylabel('Scoring')\n",
    "    #ax[ra].set_xlim([1,len(values)*2])\n",
    "    #ax[2*ra].set_title('criterion: %s ' %(allres[ra][-1][-1][0],  ))\n",
    "    \n",
    "    ax[2*ra+1].plot(weights, [r[1]['Accuracy'] for r in allres[ra]], label='Accuarcy')\n",
    "    ax[2*ra+1].plot(weights, [r[1]['Balanced Accuracy'] for r in allres[ra]], label='Balanced Accuarcy') \n",
    "    ax[2*ra+1].plot(weights, [r[1]['f1_score'] for r in allres[ra]], label='F1')     \n",
    "    ax[2*ra+1].plot(weights, [r[1]['recall_score'] for r in allres[ra]], label='Recall')     \n",
    "    ax[2*ra+1].plot(weights, [r[1]['precision_score'] for r in allres[ra]], label='Precision')    \n",
    "    ax[2*ra+1].plot(weights, [r[1]['ROC_AUC'] for r in allres[ra]], label='ROC_AUC')    \n",
    "    ax[2*ra+1].plot(weights, [r[1]['specificity_score'] for r in allres[ra]], label='Specificity')\n",
    "    ax[2*ra+1].set_title('External Evaluation -- Different C Values')\n",
    "    ax[2*ra+1].legend(loc='lower right')\n",
    "    ax[2*ra+1].set_xlabel('C Value')\n",
    "    ax[2*ra+1].set_ylabel('Scoring')\n",
    "    \n",
    "    ax[2*ra+2].plot(weights, [r[0]['test_accuracy'] for r in allres[ra]], label='Accuarcy')\n",
    "    ax[2*ra+2].plot(weights, [r[0]['test_bal_acc'] for r in allres[ra]], label='Balanced Accuracy')\n",
    "    ax[2*ra+2].plot(weights, [r[0]['test_f1'] for r in allres[ra]], label='F1')\n",
    "    ax[2*ra+2].plot(weights, [r[0]['test_recall'] for r in allres[ra]], label='Recall')\n",
    "    ax[2*ra+2].plot(weights, [r[0]['test_precision'] for r in allres[ra]], label='Precision')\n",
    "    ax[2*ra+2].plot(weights, [r[0]['test_roc_auc'] for r in allres[ra]], label='ROC_AUC')\n",
    "    ax[2*ra+2].plot(weights, [r[0]['test_specificity'] for r in allres[ra]], label='Specificity')\n",
    "    ax[2*ra+2].set_title('Cross validation -- Different C Values')\n",
    "    ax[2*ra+2].legend(loc='lower right')\n",
    "    ax[2*ra+2].set_xlabel('C Value')\n",
    "    ax[2*ra+2].set_ylabel('Scoring')\n",
    "    ax[2*ra+2].set_xlim([0,5])\n",
    "    #ax[2*ra].set_title('criterion: %s ' %(allres[ra][-1][-1][0],  ))\n",
    "    \n",
    "    ax[2*ra+3].plot(weights, [r[1]['Accuracy'] for r in allres[ra]], label='Accuarcy')\n",
    "    ax[2*ra+3].plot(weights, [r[1]['Balanced Accuracy'] for r in allres[ra]], label='Balanced Accuarcy') \n",
    "    ax[2*ra+3].plot(weights, [r[1]['f1_score'] for r in allres[ra]], label='F1')     \n",
    "    ax[2*ra+3].plot(weights, [r[1]['recall_score'] for r in allres[ra]], label='Recall')     \n",
    "    ax[2*ra+3].plot(weights, [r[1]['precision_score'] for r in allres[ra]], label='Precision')    \n",
    "    ax[2*ra+3].plot(weights, [r[1]['ROC_AUC'] for r in allres[ra]], label='ROC_AUC')    \n",
    "    ax[2*ra+3].plot(weights, [r[1]['specificity_score'] for r in allres[ra]], label='Specificity')\n",
    "    ax[2*ra+3].set_title('External Evaluation -- Different C Values')\n",
    "    ax[2*ra+3].legend(loc='lower right')\n",
    "    ax[2*ra+3].set_xlabel('C Value')\n",
    "    ax[2*ra+3].set_ylabel('Scoring')\n",
    "    ax[2*ra+3].set_xlim([0,5])"
   ]
  },
  {
   "cell_type": "markdown",
   "id": "8a096f91",
   "metadata": {},
   "source": [
    "### Simple Gridsearch to find ideal C-Value"
   ]
  },
  {
   "cell_type": "code",
   "execution_count": null,
   "id": "bef3705c",
   "metadata": {},
   "outputs": [],
   "source": [
    "# Define grid and scoring\n",
    "grid = {'C' : cseries(0.1, 100)\n",
    "        }\n",
    "\n",
    "scoring = {'f1' : 'f1',\n",
    "           'recall': 'recall',\n",
    "           #'precision' : 'precision',\n",
    "           'specificity' : make_scorer(recall_score, pos_label=0),\n",
    "           }"
   ]
  },
  {
   "cell_type": "code",
   "execution_count": 3,
   "id": "96ef9924",
   "metadata": {},
   "outputs": [],
   "source": [
    "grid_results = {}"
   ]
  },
  {
   "cell_type": "code",
   "execution_count": null,
   "id": "8ca4afce",
   "metadata": {},
   "outputs": [],
   "source": [
    "kern = 'linear'\n",
    "\n",
    "for sco, sc in scoring.items():\n",
    "    clf = GridSearchCV(SVC(kernel= kern), grid, cv=StratifiedKFold(10), scoring=sc, n_jobs=-1)\n",
    "    clf.fit(X_train, y_train)\n",
    "    grid_results[sco] = clf"
   ]
  },
  {
   "cell_type": "markdown",
   "id": "3b6f01f0",
   "metadata": {},
   "source": [
    "#### Best estimator"
   ]
  },
  {
   "cell_type": "code",
   "execution_count": null,
   "id": "222562ef",
   "metadata": {},
   "outputs": [],
   "source": [
    "for k,v in grid_results.items():\n",
    "    print(k + '-score: %s\\n'  %grid_results[k].best_estimator_)"
   ]
  },
  {
   "cell_type": "code",
   "execution_count": null,
   "id": "a80996e5",
   "metadata": {},
   "outputs": [],
   "source": [
    "svm_f1 = SVC(C=0.18125, kernel='linear')\n",
    "svm_f1.fit(X_train, y_train)\n",
    "grid_results['f1'] =svm_f1\n",
    "\n",
    "svm_recall = SVC(C=0.15, kernel='linear')\n",
    "svm_recall.fit(X_train, y_train)\n",
    "grid_results['recall'] =svm_recall\n",
    "\n",
    "svm_specificity = SVC(C=0.15, kernel='linear')\n",
    "svm_specificity.fit(X_train, y_train)\n",
    "grid_results['specificity'] =svm_specificity"
   ]
  },
  {
   "cell_type": "markdown",
   "id": "d8fe0f2a",
   "metadata": {},
   "source": [
    "#### Representation of Results"
   ]
  },
  {
   "cell_type": "code",
   "execution_count": null,
   "id": "3e4ae399",
   "metadata": {},
   "outputs": [],
   "source": [
    "for k,v in grid_results.items():\n",
    "\n",
    "    print('============================================================================')\n",
    "    print('Optimized for %s-score: -- Evaluation with Training Set \\n' %(k))\n",
    "    y_predicted = grid_results[k].predict(X_train)\n",
    "    print('Balanced Accuracy: ', balanced_accuracy_score(y_train, y_predicted))\n",
    "    print('Accuracy : ', accuracy_score(y_train, y_predicted))\n",
    "    print('f1-score : ', f1_score(y_train, y_predicted))\n",
    "    print('Recall : ' , recall_score(y_train, y_predicted))\n",
    "    print('Specificity : ', recall_score(y_train, y_predicted, pos_label=0) )\n",
    "    print('---------------\\n')\n",
    "    print('Optimized for %s-score: -- Confusion Matrix and External Evaluation \\n' %(k))\n",
    "    #cm1 = confusion_matrix(y_train, y_predicted)\n",
    "    y_predicted = grid_results[k].predict(X_test)\n",
    "    cm1 = confusion_matrix(y_test, y_predicted)\n",
    "    print('Balanced Accuracy: ', balanced_accuracy_score(y_test, y_predicted))\n",
    "    print('Accuracy : ', accuracy_score(y_test, y_predicted))\n",
    "    print('f1-score: ', f1_score(y_test, y_predicted))\n",
    "    print('Recall : ' , recall_score(y_test, y_predicted))\n",
    "    print('Specificity : ', recall_score(y_test, y_predicted, pos_label=0) )\n",
    "    # Visualize it as a heatmap\n",
    "    import matplotlib.pyplot as plt\n",
    "    import seaborn as sn\n",
    "    plt.figure(figsize=(5,3))\n",
    "    sn.heatmap(cm1,annot=True, fmt='g')\n",
    "    plt.xlabel('Predicted')\n",
    "    plt.ylabel('Truth')\n",
    "    plt.show()\n",
    "    print('\\n\\n')"
   ]
  },
  {
   "cell_type": "code",
   "execution_count": null,
   "id": "26734a47",
   "metadata": {},
   "outputs": [],
   "source": []
  }
 ],
 "metadata": {
  "kernelspec": {
   "display_name": "Python 3",
   "language": "python",
   "name": "python3"
  },
  "language_info": {
   "codemirror_mode": {
    "name": "ipython",
    "version": 3
   },
   "file_extension": ".py",
   "mimetype": "text/x-python",
   "name": "python",
   "nbconvert_exporter": "python",
   "pygments_lexer": "ipython3",
   "version": "3.8.8"
  }
 },
 "nbformat": 4,
 "nbformat_minor": 5
}
