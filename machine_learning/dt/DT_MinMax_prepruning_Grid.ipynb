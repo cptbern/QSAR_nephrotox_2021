{
 "cells": [
  {
   "cell_type": "markdown",
   "id": "27046743",
   "metadata": {},
   "source": [
    "# Decision Tree - with Imbalanced Data from MinMaxScaler\n",
    "\n",
    "## Grid search with different parameters\n",
    "\n",
    "Various parameters and values are tested by a grid search and scored against either the 'f1', 'recall' or 'specificity' scoring metric.\n",
    "\n",
    "\n",
    "### Load Packages"
   ]
  },
  {
   "cell_type": "code",
   "execution_count": 1,
   "id": "bac415aa",
   "metadata": {},
   "outputs": [],
   "source": [
    "import pickle\n",
    "from datetime import datetime as dt\n",
    "from pprint import pprint\n",
    "import pandas as pd\n",
    "import numpy as np\n",
    "import matplotlib.pyplot as plt\n",
    "import matplotlib.ticker as tkr \n",
    "\n",
    "from sklearn.tree import DecisionTreeClassifier\n",
    "from sklearn.model_selection import GridSearchCV\n",
    "from sklearn.model_selection import RandomizedSearchCV\n",
    "from sklearn.model_selection import StratifiedKFold\n",
    "from sklearn.model_selection import StratifiedShuffleSplit\n",
    "from sklearn.model_selection import cross_val_score\n",
    "from sklearn.model_selection import cross_validate\n",
    "from sklearn.tree import plot_tree\n",
    "from sklearn.metrics import confusion_matrix\n",
    "from sklearn.metrics import plot_confusion_matrix\n",
    "from sklearn.metrics import accuracy_score\n",
    "from sklearn.metrics import roc_auc_score\n",
    "from sklearn.metrics import balanced_accuracy_score\n",
    "from sklearn.metrics import f1_score\n",
    "from sklearn.metrics import recall_score\n",
    "from sklearn.metrics import precision_score\n",
    "from sklearn.metrics import make_scorer\n",
    "from sklearn.metrics import roc_curve, auc"
   ]
  },
  {
   "cell_type": "markdown",
   "id": "b23bd810",
   "metadata": {},
   "source": [
    "### Load data"
   ]
  },
  {
   "cell_type": "code",
   "execution_count": 2,
   "id": "5298ad41",
   "metadata": {},
   "outputs": [],
   "source": [
    "# import dataset from pickle\n",
    "X_train, X_test, y_train, y_test = pickle.load( open( \"../../pickles/intercorr_app2_MinMaxScaler_20210423_110410.pickle\", \"rb\" ) )"
   ]
  },
  {
   "cell_type": "markdown",
   "id": "4e5b39d4",
   "metadata": {},
   "source": [
    "### Grid search\n",
    "#### Define parameter grid and scoring metric"
   ]
  },
  {
   "cell_type": "code",
   "execution_count": 3,
   "id": "efc69dd8",
   "metadata": {},
   "outputs": [],
   "source": [
    "grid = {'max_depth' : [int(x) for x in np.linspace(5, 10, num = 6)], \n",
    "        # 'min_samples_split' : [int(x) for x in np.linspace(2, 20, num = 10)],\n",
    "        # 'min_samples_leaf' : [int(x) for x in np.linspace(1, 8, num = 8)],\n",
    "         'min_weight_fraction_leaf' : [float(x) for x in np.linspace(0, 0.15, num = 5)],\n",
    "         'min_impurity_decrease' : [float(x) for x in np.linspace(0, 0.015, num = 5)],\n",
    "        # 'class_weight' : ['balanced'], #[{0:3,1:1}, {0:2.6666666666666,1:1}, {0:2,1:1}],\n",
    "         'criterion' : ['entropy', 'gini'],\n",
    "         'splitter' : ['best', 'random']\n",
    "        }\n",
    "\n",
    "scoring = {'f1' : 'f1',\n",
    "           'recall': 'recall',\n",
    "           #'precision' : 'precision',\n",
    "           'specificity' : make_scorer(recall_score, pos_label=0),\n",
    "           }"
   ]
  },
  {
   "cell_type": "markdown",
   "id": "494337a6",
   "metadata": {},
   "source": [
    "#### Run grid search"
   ]
  },
  {
   "cell_type": "code",
   "execution_count": 4,
   "id": "ef201256",
   "metadata": {},
   "outputs": [],
   "source": [
    "grid_results = {}"
   ]
  },
  {
   "cell_type": "code",
   "execution_count": 5,
   "id": "2e6f05c9",
   "metadata": {},
   "outputs": [
    {
     "name": "stdout",
     "output_type": "stream",
     "text": [
      "Duration of calculations: 0:23:05.312151\n"
     ]
    }
   ],
   "source": [
    "start = dt.now()\n",
    "\n",
    "for sco, sc in scoring.items():\n",
    "    clf = GridSearchCV(DecisionTreeClassifier(random_state=78), grid, cv=StratifiedKFold(12), scoring=sc, n_jobs=-1)\n",
    "    clf.fit(X_train, y_train)\n",
    "    grid_results[sco] = clf\n",
    "    \n",
    "end = dt.now()\n",
    "diff = end-start\n",
    "\n",
    "print('Duration of calculations: %s' %diff)"
   ]
  },
  {
   "cell_type": "markdown",
   "id": "00457710",
   "metadata": {},
   "source": [
    "#### Best estimator"
   ]
  },
  {
   "cell_type": "code",
   "execution_count": 6,
   "id": "ca8956b5",
   "metadata": {},
   "outputs": [
    {
     "name": "stdout",
     "output_type": "stream",
     "text": [
      "f1-score: DecisionTreeClassifier(criterion='entropy', max_depth=5,\n",
      "                       min_impurity_decrease=0.015,\n",
      "                       min_weight_fraction_leaf=0.075, random_state=78,\n",
      "                       splitter='random')\n",
      "\n",
      "recall-score: DecisionTreeClassifier(max_depth=5, min_impurity_decrease=0.015,\n",
      "                       random_state=78, splitter='random')\n",
      "\n",
      "specificity-score: DecisionTreeClassifier(max_depth=8, random_state=78, splitter='random')\n",
      "\n"
     ]
    }
   ],
   "source": [
    "for k,v in grid_results.items():\n",
    "    print(k + '-score: %s\\n'  %grid_results[k].best_estimator_)"
   ]
  },
  {
   "cell_type": "markdown",
   "id": "26a97653",
   "metadata": {},
   "source": [
    "### Save Results"
   ]
  },
  {
   "cell_type": "code",
   "execution_count": 7,
   "id": "6e359026",
   "metadata": {},
   "outputs": [],
   "source": [
    "out = grid_results\n",
    "timestamp = dt.now().strftime(\"%Y%m%d_%H%M%S\")\n",
    "filename = '../../pickles/DT_MinMax_grid_%s.pickle' %timestamp\n",
    "filehandler = open(filename, 'wb')\n",
    "pickle.dump(out, filehandler)"
   ]
  },
  {
   "cell_type": "markdown",
   "id": "d82e0905",
   "metadata": {},
   "source": [
    "### Representation of Results"
   ]
  },
  {
   "cell_type": "code",
   "execution_count": 10,
   "id": "f66fe123",
   "metadata": {},
   "outputs": [
    {
     "name": "stdout",
     "output_type": "stream",
     "text": [
      "============================================================================\n",
      "Optimized for f1-score: -- Evaluation with Training Set \n",
      "\n",
      "Balanced Accuracy:  0.5\n",
      "Accuracy :  0.742671009771987\n",
      "f1-score :  0.8523364485981308\n",
      "Recall :  1.0\n",
      "Specificity :  0.0\n",
      "---------------\n",
      "\n",
      "Optimized for f1-score: -- Confusion Matrix and External Evaluation \n",
      "\n",
      "Balanced Accuracy:  0.5\n",
      "Accuracy :  0.7272727272727273\n",
      "f1-score :  0.8421052631578948\n",
      "Recall :  1.0\n",
      "Specificity :  0.0\n"
     ]
    },
    {
     "data": {
      "image/png": "[encoded data removed]",
      "text/plain": [
       "<Figure size 360x216 with 2 Axes>"
      ]
     },
     "metadata": {
      "needs_background": "light"
     },
     "output_type": "display_data"
    },
    {
     "name": "stdout",
     "output_type": "stream",
     "text": [
      "\n",
      "\n",
      "\n",
      "============================================================================\n",
      "Optimized for recall-score: -- Evaluation with Training Set \n",
      "\n",
      "Balanced Accuracy:  0.5\n",
      "Accuracy :  0.742671009771987\n",
      "f1-score :  0.8523364485981308\n",
      "Recall :  1.0\n",
      "Specificity :  0.0\n",
      "---------------\n",
      "\n",
      "Optimized for recall-score: -- Confusion Matrix and External Evaluation \n",
      "\n",
      "Balanced Accuracy:  0.5\n",
      "Accuracy :  0.7272727272727273\n",
      "f1-score :  0.8421052631578948\n",
      "Recall :  1.0\n",
      "Specificity :  0.0\n"
     ]
    },
    {
     "data": {
      "image/png": "[encoded data removed]",
      "text/plain": [
       "<Figure size 360x216 with 2 Axes>"
      ]
     },
     "metadata": {
      "needs_background": "light"
     },
     "output_type": "display_data"
    },
    {
     "name": "stdout",
     "output_type": "stream",
     "text": [
      "\n",
      "\n",
      "\n",
      "============================================================================\n",
      "Optimized for specificity-score: -- Evaluation with Training Set \n",
      "\n",
      "Balanced Accuracy:  0.939873417721519\n",
      "Accuracy :  0.9690553745928339\n",
      "f1-score :  0.9795918367346939\n",
      "Recall :  1.0\n",
      "Specificity :  0.879746835443038\n",
      "---------------\n",
      "\n",
      "Optimized for specificity-score: -- Confusion Matrix and External Evaluation \n",
      "\n",
      "Balanced Accuracy:  0.6160714285714286\n",
      "Accuracy :  0.7012987012987013\n",
      "f1-score :  0.7964601769911505\n",
      "Recall :  0.8035714285714286\n",
      "Specificity :  0.42857142857142855\n"
     ]
    },
    {
     "data": {
      "image/png": "[encoded data removed]",
      "text/plain": [
       "<Figure size 360x216 with 2 Axes>"
      ]
     },
     "metadata": {
      "needs_background": "light"
     },
     "output_type": "display_data"
    },
    {
     "name": "stdout",
     "output_type": "stream",
     "text": [
      "\n",
      "\n",
      "\n"
     ]
    }
   ],
   "source": [
    "for k,v in grid_results.items():\n",
    "\n",
    "    print('============================================================================')\n",
    "    print('Optimized for %s-score: -- Evaluation with Training Set \\n' %(k))\n",
    "    y_predicted = grid_results[k].predict(X_train)\n",
    "    print('Balanced Accuracy: ', balanced_accuracy_score(y_train, y_predicted))\n",
    "    print('Accuracy : ', accuracy_score(y_train, y_predicted))\n",
    "    print('f1-score : ', f1_score(y_train, y_predicted))\n",
    "    print('Recall : ' , recall_score(y_train, y_predicted))\n",
    "\n",
    "    print('Specificity : ', recall_score(y_train, y_predicted, pos_label=0) )\n",
    "    print('---------------\\n')\n",
    "\n",
    "    print('Optimized for %s-score: -- Confusion Matrix and External Evaluation \\n' %(k))\n",
    "    y_predicted = grid_results[k].predict(X_test)\n",
    "    cm1 = confusion_matrix(y_test, y_predicted)\n",
    "    \n",
    "    print('Balanced Accuracy: ', balanced_accuracy_score(y_test, y_predicted))\n",
    "    print('Accuracy : ', accuracy_score(y_test, y_predicted))\n",
    "    print('f1-score : ', f1_score(y_test, y_predicted))\n",
    "    print('Recall : ' , recall_score(y_test, y_predicted))\n",
    "\n",
    "\n",
    "    print('Specificity : ', recall_score(y_test, y_predicted, pos_label=0) )\n",
    "\n",
    "    # Visualize it as a heatmap\n",
    "    \n",
    "    import matplotlib.pyplot as plt\n",
    "    import seaborn as sn\n",
    "    plt.figure(figsize=(5,3))\n",
    "    sn.heatmap(cm1,annot=True, fmt='g')\n",
    "    plt.xlabel('Predicted')\n",
    "    plt.ylabel('Truth')\n",
    "    plt.show()\n",
    "    print('\\n\\n')"
   ]
  },
  {
   "cell_type": "code",
   "execution_count": null,
   "id": "3b402b40",
   "metadata": {},
   "outputs": [],
   "source": []
  }
 ],
 "metadata": {
  "kernelspec": {
   "display_name": "Python 3",
   "language": "python",
   "name": "python3"
  },
  "language_info": {
   "codemirror_mode": {
    "name": "ipython",
    "version": 3
   },
   "file_extension": ".py",
   "mimetype": "text/x-python",
   "name": "python",
   "nbconvert_exporter": "python",
   "pygments_lexer": "ipython3",
   "version": "3.8.8"
  }
 },
 "nbformat": 4,
 "nbformat_minor": 5
}
