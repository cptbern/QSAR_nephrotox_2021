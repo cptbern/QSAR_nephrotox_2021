{
 "cells": [
  {
   "cell_type": "markdown",
   "id": "86d31c25",
   "metadata": {},
   "source": [
    "# Decision Tree - with class_weight=balanced Data from MinMaxScaler\n",
    "\n",
    "## Grid search with different parameters\n",
    "\n",
    "Various parameters and values are tested by a grid search and scored against either the 'f1', 'recall' or 'specificity' scoring metric.\n",
    "\n",
    "\n",
    "### Load Packages"
   ]
  },
  {
   "cell_type": "code",
   "execution_count": 1,
   "id": "c76127f7",
   "metadata": {},
   "outputs": [],
   "source": [
    "import pickle\n",
    "from datetime import datetime as dt\n",
    "from pprint import pprint\n",
    "import pandas as pd\n",
    "import numpy as np\n",
    "import matplotlib.pyplot as plt\n",
    "import matplotlib.ticker as tkr \n",
    "\n",
    "from sklearn.tree import DecisionTreeClassifier\n",
    "from sklearn.model_selection import GridSearchCV\n",
    "from sklearn.model_selection import RandomizedSearchCV\n",
    "from sklearn.model_selection import StratifiedKFold\n",
    "from sklearn.model_selection import StratifiedShuffleSplit\n",
    "from sklearn.model_selection import cross_val_score\n",
    "from sklearn.model_selection import cross_validate\n",
    "from sklearn.tree import plot_tree\n",
    "from sklearn.metrics import confusion_matrix\n",
    "from sklearn.metrics import plot_confusion_matrix\n",
    "from sklearn.metrics import accuracy_score\n",
    "from sklearn.metrics import roc_auc_score\n",
    "from sklearn.metrics import balanced_accuracy_score\n",
    "from sklearn.metrics import f1_score\n",
    "from sklearn.metrics import recall_score\n",
    "from sklearn.metrics import precision_score\n",
    "from sklearn.metrics import make_scorer\n",
    "from sklearn.metrics import roc_curve, auc"
   ]
  },
  {
   "cell_type": "markdown",
   "id": "b87771bb",
   "metadata": {},
   "source": [
    "### Load data"
   ]
  },
  {
   "cell_type": "code",
   "execution_count": 2,
   "id": "6a650eda",
   "metadata": {},
   "outputs": [],
   "source": [
    "# import dataset from pickle\n",
    "X_train, X_test, y_train, y_test = pickle.load( open( \"../../pickles/intercorr_app2_MinMaxScaler_20210423_110410.pickle\", \"rb\" ) )"
   ]
  },
  {
   "cell_type": "markdown",
   "id": "cc08633e",
   "metadata": {},
   "source": [
    "### Grid search\n",
    "#### Define parameter grid and scoring metric"
   ]
  },
  {
   "cell_type": "code",
   "execution_count": 3,
   "id": "a4a06d2d",
   "metadata": {},
   "outputs": [],
   "source": [
    "grid = {'max_depth' : [int(x) for x in np.linspace(5, 10, num = 6)],\n",
    "        # 'min_samples_split' : [int(x) for x in np.linspace(2, 20, num = 10)],\n",
    "        # 'min_samples_leaf' : [int(x) for x in np.linspace(1, 8, num = 8)],\n",
    "         'min_weight_fraction_leaf' : [float(x) for x in np.linspace(0, 0.15, num = 5)],\n",
    "         'min_impurity_decrease' : [float(x) for x in np.linspace(0, 0.015, num = 5)],\n",
    "         'class_weight' : ['balanced'], #[{0:3,1:1}, {0:2.6666666666666,1:1}, {0:2,1:1}],\n",
    "         'criterion' : ['entropy', 'gini'],\n",
    "         'splitter' : ['best', 'random'],\n",
    "        }\n",
    "\n",
    "scoring = {'f1' : 'f1',\n",
    "           'recall': 'recall',\n",
    "           #'precision' : 'precision',\n",
    "           'specificity' : make_scorer(recall_score, pos_label=0),\n",
    "           }"
   ]
  },
  {
   "cell_type": "markdown",
   "id": "b4c8232e",
   "metadata": {},
   "source": [
    "#### Run grid search"
   ]
  },
  {
   "cell_type": "code",
   "execution_count": 4,
   "id": "0ff8dba9",
   "metadata": {},
   "outputs": [],
   "source": [
    "grid_results = {}"
   ]
  },
  {
   "cell_type": "code",
   "execution_count": 5,
   "id": "b025a36e",
   "metadata": {},
   "outputs": [
    {
     "name": "stdout",
     "output_type": "stream",
     "text": [
      "Duration of calculations: 0:31:38.232728\n"
     ]
    }
   ],
   "source": [
    "start = dt.now()\n",
    "\n",
    "for sco, sc in scoring.items():\n",
    "    clf = GridSearchCV(DecisionTreeClassifier(random_state=78), grid, cv=StratifiedKFold(12), scoring=sc, n_jobs=-1)\n",
    "    clf.fit(X_train, y_train)\n",
    "    grid_results[sco] = clf\n",
    "    \n",
    "end = dt.now()\n",
    "diff = end-start\n",
    "\n",
    "print('Duration of calculations: %s' %diff)"
   ]
  },
  {
   "cell_type": "markdown",
   "id": "4e192eb4",
   "metadata": {},
   "source": [
    "#### Best estimator"
   ]
  },
  {
   "cell_type": "code",
   "execution_count": 6,
   "id": "19bdc4b0",
   "metadata": {},
   "outputs": [
    {
     "name": "stdout",
     "output_type": "stream",
     "text": [
      "f1-score: DecisionTreeClassifier(class_weight='balanced', criterion='entropy',\n",
      "                       max_depth=10, min_impurity_decrease=0.00375,\n",
      "                       random_state=78, splitter='random')\n",
      "\n",
      "recall-score: DecisionTreeClassifier(class_weight='balanced', criterion='entropy',\n",
      "                       max_depth=10, random_state=78)\n",
      "\n",
      "specificity-score: DecisionTreeClassifier(class_weight='balanced', criterion='entropy',\n",
      "                       max_depth=5, min_impurity_decrease=0.015,\n",
      "                       random_state=78, splitter='random')\n",
      "\n"
     ]
    }
   ],
   "source": [
    "for k,v in grid_results.items():\n",
    "    print(k + '-score: %s\\n'  %grid_results[k].best_estimator_)"
   ]
  },
  {
   "cell_type": "markdown",
   "id": "6b5572a4",
   "metadata": {},
   "source": [
    "### Save Results"
   ]
  },
  {
   "cell_type": "code",
   "execution_count": 7,
   "id": "5ade62fb",
   "metadata": {},
   "outputs": [],
   "source": [
    "out = grid_results\n",
    "timestamp = dt.now().strftime(\"%Y%m%d_%H%M%S\")\n",
    "filename = '../../pickles/DT_MinMax_grid_balanced_%s.pickle' %timestamp\n",
    "filehandler = open(filename, 'wb')\n",
    "pickle.dump(out, filehandler)"
   ]
  },
  {
   "cell_type": "markdown",
   "id": "6f2505d8",
   "metadata": {},
   "source": [
    "### Representation of Results"
   ]
  },
  {
   "cell_type": "code",
   "execution_count": 8,
   "id": "8e812595",
   "metadata": {},
   "outputs": [
    {
     "name": "stdout",
     "output_type": "stream",
     "text": [
      "============================================================================\n",
      "Optimized for f1-score: -- Evaluation with Training Set \n",
      "\n",
      "Balanced Accuracy:  0.9118365534088385\n",
      "Accuracy :  0.9120521172638436\n",
      "f1-score :  0.9390519187358916\n",
      "Recall :  0.9122807017543859\n",
      "Specificity :  0.9113924050632911\n",
      "---------------\n",
      "\n",
      "Optimized for f1-score: -- Confusion Matrix and External Evaluation \n",
      "\n",
      "Balanced Accuracy:  0.5803571428571429\n",
      "Accuracy :  0.6818181818181818\n",
      "f1-score :  0.7860262008733624\n",
      "Recall :  0.8035714285714286\n",
      "Specificity :  0.35714285714285715\n"
     ]
    },
    {
     "data": {
      "image/png": "[encoded data removed]",
      "text/plain": [
       "<Figure size 360x216 with 2 Axes>"
      ]
     },
     "metadata": {
      "needs_background": "light"
     },
     "output_type": "display_data"
    },
    {
     "name": "stdout",
     "output_type": "stream",
     "text": [
      "\n",
      "\n",
      "\n",
      "============================================================================\n",
      "Optimized for recall-score: -- Evaluation with Training Set \n",
      "\n",
      "Balanced Accuracy:  0.8769986675549634\n",
      "Accuracy :  0.8664495114006515\n",
      "f1-score :  0.9048723897911835\n",
      "Recall :  0.8552631578947368\n",
      "Specificity :  0.8987341772151899\n",
      "---------------\n",
      "\n",
      "Optimized for recall-score: -- Confusion Matrix and External Evaluation \n",
      "\n",
      "Balanced Accuracy:  0.6101190476190477\n",
      "Accuracy :  0.6168831168831169\n",
      "f1-score :  0.7035175879396984\n",
      "Recall :  0.625\n",
      "Specificity :  0.5952380952380952\n"
     ]
    },
    {
     "data": {
      "image/png": "[encoded data removed]",
      "text/plain": [
       "<Figure size 360x216 with 2 Axes>"
      ]
     },
     "metadata": {
      "needs_background": "light"
     },
     "output_type": "display_data"
    },
    {
     "name": "stdout",
     "output_type": "stream",
     "text": [
      "\n",
      "\n",
      "\n",
      "============================================================================\n",
      "Optimized for specificity-score: -- Evaluation with Training Set \n",
      "\n",
      "Balanced Accuracy:  0.6567704863424384\n",
      "Accuracy :  0.7052117263843648\n",
      "f1-score :  0.7921928817451206\n",
      "Recall :  0.756578947368421\n",
      "Specificity :  0.5569620253164557\n",
      "---------------\n",
      "\n",
      "Optimized for specificity-score: -- Confusion Matrix and External Evaluation \n",
      "\n",
      "Balanced Accuracy:  0.6101190476190477\n",
      "Accuracy :  0.6493506493506493\n",
      "f1-score :  0.7428571428571428\n",
      "Recall :  0.6964285714285714\n",
      "Specificity :  0.5238095238095238\n"
     ]
    },
    {
     "data": {
      "image/png": "[encoded data removed]",
      "text/plain": [
       "<Figure size 360x216 with 2 Axes>"
      ]
     },
     "metadata": {
      "needs_background": "light"
     },
     "output_type": "display_data"
    },
    {
     "name": "stdout",
     "output_type": "stream",
     "text": [
      "\n",
      "\n",
      "\n"
     ]
    }
   ],
   "source": [
    "for k,v in grid_results.items():\n",
    "\n",
    "    print('============================================================================')\n",
    "    print('Optimized for %s-score: -- Evaluation with Training Set \\n' %(k))\n",
    "    y_predicted = grid_results[k].predict(X_train)\n",
    "    print('Balanced Accuracy: ', balanced_accuracy_score(y_train, y_predicted))\n",
    "    print('Accuracy : ', accuracy_score(y_train, y_predicted))\n",
    "    print('f1-score : ', f1_score(y_train, y_predicted))\n",
    "    print('Recall : ' , recall_score(y_train, y_predicted))\n",
    "\n",
    "    print('Specificity : ', recall_score(y_train, y_predicted, pos_label=0) )\n",
    "    print('---------------\\n')\n",
    "\n",
    "    print('Optimized for %s-score: -- Confusion Matrix and External Evaluation \\n' %(k))\n",
    "    y_predicted = grid_results[k].predict(X_test)\n",
    "    cm1 = confusion_matrix(y_test, y_predicted)\n",
    "    \n",
    "    print('Balanced Accuracy: ', balanced_accuracy_score(y_test, y_predicted))\n",
    "    print('Accuracy : ', accuracy_score(y_test, y_predicted))\n",
    "    print('f1-score : ', f1_score(y_test, y_predicted))\n",
    "    print('Recall : ' , recall_score(y_test, y_predicted))\n",
    "\n",
    "\n",
    "    print('Specificity : ', recall_score(y_test, y_predicted, pos_label=0) )\n",
    "\n",
    "    # Visualize it as a heatmap\n",
    "    import matplotlib.pyplot as plt\n",
    "    import seaborn as sn\n",
    "    plt.figure(figsize=(5,3))\n",
    "    sn.heatmap(cm1,annot=True, fmt='g')\n",
    "    plt.xlabel('Predicted')\n",
    "    plt.ylabel('Truth')\n",
    "    plt.show()\n",
    "    print('\\n\\n')"
   ]
  },
  {
   "cell_type": "markdown",
   "id": "a6c52ab5",
   "metadata": {},
   "source": [
    "### Fine tuning\n",
    "#### F1"
   ]
  },
  {
   "cell_type": "code",
   "execution_count": 26,
   "id": "4e718e80",
   "metadata": {},
   "outputs": [
    {
     "name": "stdout",
     "output_type": "stream",
     "text": [
      "============================================================================\n",
      "Optimized for specificity-score: -- Confusion Matrix and External Evaluation \n",
      "\n",
      "Balanced Accuracy:  0.6982705973795248\n",
      "Accuracy :  0.6009771986970684\n",
      "f1-score :  0.6494992846924177\n",
      "Recall :  0.49780701754385964\n",
      "Specificity :  0.8987341772151899\n",
      "---------------\n",
      "\n",
      "Optimized for specificity-score: -- Confusion Matrix and External Evaluation \n",
      "\n",
      "Balanced Accuracy:  0.6383928571428571\n",
      "Accuracy :  0.538961038961039\n",
      "f1-score :  0.5696969696969697\n",
      "Recall :  0.41964285714285715\n",
      "Specificity :  0.8571428571428571\n"
     ]
    },
    {
     "data": {
      "image/png": "[encoded data removed]",
      "text/plain": [
       "<Figure size 360x216 with 2 Axes>"
      ]
     },
     "metadata": {
      "needs_background": "light"
     },
     "output_type": "display_data"
    },
    {
     "name": "stdout",
     "output_type": "stream",
     "text": [
      "\n",
      "\n",
      "\n"
     ]
    }
   ],
   "source": [
    "clf = DecisionTreeClassifier(class_weight='balanced', criterion='entropy',\n",
    "                       max_depth=5, min_impurity_decrease=0.00375,\n",
    "                       min_weight_fraction_leaf=0.0375, random_state=78,\n",
    "                       splitter='random')\n",
    "clf.fit(X_train, y_train)\n",
    "print('============================================================================')\n",
    "print('Optimized for %s-score: -- Confusion Matrix and External Evaluation \\n' %(k))\n",
    "y_predicted = clf.predict(X_train)\n",
    "print('Balanced Accuracy: ', balanced_accuracy_score(y_train, y_predicted))\n",
    "print('Accuracy : ', accuracy_score(y_train, y_predicted))\n",
    "print('f1-score : ', f1_score(y_train, y_predicted))\n",
    "print('Recall : ' , recall_score(y_train, y_predicted))\n",
    "\n",
    "print('Specificity : ', recall_score(y_train, y_predicted, pos_label=0) )\n",
    "print('---------------\\n')\n",
    "\n",
    "print('Optimized for %s-score: -- Confusion Matrix and External Evaluation \\n' %(k))\n",
    "y_predicted = clf.predict(X_test)\n",
    "cm1 = confusion_matrix(y_test, y_predicted)\n",
    "\n",
    "print('Balanced Accuracy: ', balanced_accuracy_score(y_test, y_predicted))\n",
    "print('Accuracy : ', accuracy_score(y_test, y_predicted))\n",
    "print('f1-score : ', f1_score(y_test, y_predicted))\n",
    "print('Recall : ' , recall_score(y_test, y_predicted))\n",
    "\n",
    "\n",
    "print('Specificity : ', recall_score(y_test, y_predicted, pos_label=0) )\n",
    "\n",
    "# Visualize it as a heatmap\n",
    "import matplotlib.pyplot as plt\n",
    "import seaborn as sn\n",
    "plt.figure(figsize=(5,3))\n",
    "sn.heatmap(cm1,annot=True, fmt='g')\n",
    "plt.xlabel('Predicted')\n",
    "plt.ylabel('Truth')\n",
    "plt.show()\n",
    "print('\\n\\n')"
   ]
  }
 ],
 "metadata": {
  "kernelspec": {
   "display_name": "Python 3",
   "language": "python",
   "name": "python3"
  },
  "language_info": {
   "codemirror_mode": {
    "name": "ipython",
    "version": 3
   },
   "file_extension": ".py",
   "mimetype": "text/x-python",
   "name": "python",
   "nbconvert_exporter": "python",
   "pygments_lexer": "ipython3",
   "version": "3.8.8"
  }
 },
 "nbformat": 4,
 "nbformat_minor": 5
}
