{
 "cells": [
  {
   "cell_type": "markdown",
   "id": "e85d4456",
   "metadata": {},
   "source": [
    "# Decision Tree - with class_weight=balanced Data from RobustScaler\n",
    "\n",
    "## Grid search with different parameters\n",
    "\n",
    "Various parameters and values are tested by a grid search and scored against either the 'f1', 'recall' or 'specificity' scoring metric.\n",
    "\n",
    "\n",
    "### Load Packages"
   ]
  },
  {
   "cell_type": "code",
   "execution_count": 1,
   "id": "99a74023",
   "metadata": {},
   "outputs": [],
   "source": [
    "import pickle\n",
    "from datetime import datetime as dt\n",
    "from pprint import pprint\n",
    "import pandas as pd\n",
    "import numpy as np\n",
    "import matplotlib.pyplot as plt\n",
    "import matplotlib.ticker as tkr \n",
    "\n",
    "from sklearn.tree import DecisionTreeClassifier\n",
    "from sklearn.model_selection import GridSearchCV\n",
    "from sklearn.model_selection import RandomizedSearchCV\n",
    "from sklearn.model_selection import StratifiedKFold\n",
    "from sklearn.model_selection import StratifiedShuffleSplit\n",
    "from sklearn.model_selection import cross_val_score\n",
    "from sklearn.model_selection import cross_validate\n",
    "from sklearn.tree import plot_tree\n",
    "from sklearn.metrics import confusion_matrix\n",
    "from sklearn.metrics import plot_confusion_matrix\n",
    "from sklearn.metrics import accuracy_score\n",
    "from sklearn.metrics import roc_auc_score\n",
    "from sklearn.metrics import balanced_accuracy_score\n",
    "from sklearn.metrics import f1_score\n",
    "from sklearn.metrics import recall_score\n",
    "from sklearn.metrics import precision_score\n",
    "from sklearn.metrics import make_scorer\n",
    "from sklearn.metrics import roc_curve, auc"
   ]
  },
  {
   "cell_type": "markdown",
   "id": "4637c4be",
   "metadata": {},
   "source": [
    "### Load data"
   ]
  },
  {
   "cell_type": "code",
   "execution_count": 2,
   "id": "3e3a3eca",
   "metadata": {},
   "outputs": [],
   "source": [
    "# import dataset from pickle\n",
    "X_train, X_test, y_train, y_test = pickle.load( open( \"../../pickles/intercorr_app2_RobustScaler_20210711_215123.pickle\", \"rb\" ) )"
   ]
  },
  {
   "cell_type": "markdown",
   "id": "8af2bd9f",
   "metadata": {},
   "source": [
    "### Grid search\n",
    "#### Define parameter grid and scoring metric"
   ]
  },
  {
   "cell_type": "code",
   "execution_count": 3,
   "id": "f9b29c4c",
   "metadata": {},
   "outputs": [],
   "source": [
    "grid = {'max_depth' : [int(x) for x in np.linspace(5, 10, num = 6)], \n",
    "        # 'min_samples_split' : [int(x) for x in np.linspace(2, 20, num = 10)],\n",
    "        # 'min_samples_leaf' : [int(x) for x in np.linspace(1, 8, num = 8)],\n",
    "         'min_weight_fraction_leaf' : [float(x) for x in np.linspace(0, 0.15, num = 5)],\n",
    "         'min_impurity_decrease' : [float(x) for x in np.linspace(0, 0.015, num = 5)],\n",
    "         'class_weight' : ['balanced'],\n",
    "          'criterion' : ['entropy', 'gini'],\n",
    "          'splitter' : ['best', 'random']\n",
    "        }\n",
    "\n",
    "scoring = {'f1' : 'f1',\n",
    "           'recall': 'recall',\n",
    "           #'precision' : 'precision',\n",
    "           'specificity' : make_scorer(recall_score, pos_label=0),\n",
    "           }"
   ]
  },
  {
   "cell_type": "markdown",
   "id": "b75b5939",
   "metadata": {},
   "source": [
    "#### Run grid search"
   ]
  },
  {
   "cell_type": "code",
   "execution_count": 4,
   "id": "3376fda0",
   "metadata": {},
   "outputs": [],
   "source": [
    "grid_results = {}"
   ]
  },
  {
   "cell_type": "code",
   "execution_count": 5,
   "id": "d978b440",
   "metadata": {},
   "outputs": [
    {
     "name": "stdout",
     "output_type": "stream",
     "text": [
      "Duration of calculations: 0:59:06.370077\n"
     ]
    }
   ],
   "source": [
    "start = dt.now()\n",
    "\n",
    "for sco, sc in scoring.items():\n",
    "    clf = GridSearchCV(DecisionTreeClassifier(random_state=78), grid, cv=StratifiedKFold(12), scoring=sc, n_jobs=-1)\n",
    "    clf.fit(X_train, y_train)\n",
    "    grid_results[sco] = clf\n",
    "    \n",
    "end = dt.now()\n",
    "diff = end-start\n",
    "\n",
    "print('Duration of calculations: %s' %diff)"
   ]
  },
  {
   "cell_type": "markdown",
   "id": "93c3f796",
   "metadata": {},
   "source": [
    "#### Best estimator"
   ]
  },
  {
   "cell_type": "code",
   "execution_count": 6,
   "id": "dfae3656",
   "metadata": {},
   "outputs": [
    {
     "name": "stdout",
     "output_type": "stream",
     "text": [
      "f1-score: DecisionTreeClassifier(class_weight='balanced', max_depth=10, random_state=78)\n",
      "\n",
      "recall-score: DecisionTreeClassifier(class_weight='balanced', max_depth=10, random_state=78)\n",
      "\n",
      "specificity-score: DecisionTreeClassifier(class_weight='balanced', criterion='entropy',\n",
      "                       max_depth=5, min_impurity_decrease=0.01125,\n",
      "                       random_state=78, splitter='random')\n",
      "\n"
     ]
    }
   ],
   "source": [
    "for k,v in grid_results.items():\n",
    "    print(k + '-score: %s\\n'  %grid_results[k].best_estimator_)"
   ]
  },
  {
   "cell_type": "markdown",
   "id": "4c9cde8a",
   "metadata": {},
   "source": [
    "### Save Results"
   ]
  },
  {
   "cell_type": "code",
   "execution_count": 7,
   "id": "fceec968",
   "metadata": {},
   "outputs": [],
   "source": [
    "out = grid_results\n",
    "timestamp = dt.now().strftime(\"%Y%m%d_%H%M%S\")\n",
    "filename = '../../pickles/DT_Robust_grid_balanced_%s.pickle' %timestamp\n",
    "filehandler = open(filename, 'wb')\n",
    "pickle.dump(out, filehandler)"
   ]
  },
  {
   "cell_type": "markdown",
   "id": "6487a909",
   "metadata": {},
   "source": [
    "### Representation of Results"
   ]
  },
  {
   "cell_type": "code",
   "execution_count": 8,
   "id": "64a76bb2",
   "metadata": {},
   "outputs": [
    {
     "name": "stdout",
     "output_type": "stream",
     "text": [
      "============================================================================\n",
      "Optimized for f1-score: -- Evaluation with Training Set \n",
      "\n",
      "Balanced Accuracy:  0.9671052631578947\n",
      "Accuracy :  0.9511400651465798\n",
      "f1-score :  0.9659863945578232\n",
      "Recall :  0.9342105263157895\n",
      "Specificity :  1.0\n",
      "---------------\n",
      "\n",
      "Optimized for f1-score: -- Confusion Matrix and External Evaluation \n",
      "\n",
      "Balanced Accuracy:  0.6235119047619048\n",
      "Accuracy :  0.6363636363636364\n",
      "f1-score :  0.7227722772277229\n",
      "Recall :  0.6517857142857143\n",
      "Specificity :  0.5952380952380952\n"
     ]
    },
    {
     "data": {
      "image/png": "[encoded data removed]",
      "text/plain": [
       "<Figure size 360x216 with 2 Axes>"
      ]
     },
     "metadata": {
      "needs_background": "light"
     },
     "output_type": "display_data"
    },
    {
     "name": "stdout",
     "output_type": "stream",
     "text": [
      "\n",
      "\n",
      "\n",
      "============================================================================\n",
      "Optimized for recall-score: -- Evaluation with Training Set \n",
      "\n",
      "Balanced Accuracy:  0.9671052631578947\n",
      "Accuracy :  0.9511400651465798\n",
      "f1-score :  0.9659863945578232\n",
      "Recall :  0.9342105263157895\n",
      "Specificity :  1.0\n",
      "---------------\n",
      "\n",
      "Optimized for recall-score: -- Confusion Matrix and External Evaluation \n",
      "\n",
      "Balanced Accuracy:  0.6235119047619048\n",
      "Accuracy :  0.6363636363636364\n",
      "f1-score :  0.7227722772277229\n",
      "Recall :  0.6517857142857143\n",
      "Specificity :  0.5952380952380952\n"
     ]
    },
    {
     "data": {
      "image/png": "[encoded data removed]",
      "text/plain": [
       "<Figure size 360x216 with 2 Axes>"
      ]
     },
     "metadata": {
      "needs_background": "light"
     },
     "output_type": "display_data"
    },
    {
     "name": "stdout",
     "output_type": "stream",
     "text": [
      "\n",
      "\n",
      "\n",
      "============================================================================\n",
      "Optimized for specificity-score: -- Evaluation with Training Set \n",
      "\n",
      "Balanced Accuracy:  0.7462941372418388\n",
      "Accuracy :  0.6938110749185668\n",
      "f1-score :  0.7558441558441559\n",
      "Recall :  0.6381578947368421\n",
      "Specificity :  0.8544303797468354\n",
      "---------------\n",
      "\n",
      "Optimized for specificity-score: -- Confusion Matrix and External Evaluation \n",
      "\n",
      "Balanced Accuracy:  0.5803571428571429\n",
      "Accuracy :  0.551948051948052\n",
      "f1-score :  0.6270270270270271\n",
      "Recall :  0.5178571428571429\n",
      "Specificity :  0.6428571428571429\n"
     ]
    },
    {
     "data": {
      "image/png": "[encoded data removed]",
      "text/plain": [
       "<Figure size 360x216 with 2 Axes>"
      ]
     },
     "metadata": {
      "needs_background": "light"
     },
     "output_type": "display_data"
    },
    {
     "name": "stdout",
     "output_type": "stream",
     "text": [
      "\n",
      "\n",
      "\n"
     ]
    }
   ],
   "source": [
    "for k,v in grid_results.items():\n",
    "\n",
    "    print('============================================================================')\n",
    "    print('Optimized for %s-score: -- Evaluation with Training Set \\n' %(k))\n",
    "    y_predicted = grid_results[k].predict(X_train)\n",
    "    print('Balanced Accuracy: ', balanced_accuracy_score(y_train, y_predicted))\n",
    "    print('Accuracy : ', accuracy_score(y_train, y_predicted))\n",
    "    print('f1-score : ', f1_score(y_train, y_predicted))\n",
    "    print('Recall : ' , recall_score(y_train, y_predicted))\n",
    "\n",
    "    print('Specificity : ', recall_score(y_train, y_predicted, pos_label=0) )\n",
    "    print('---------------\\n')\n",
    "\n",
    "    print('Optimized for %s-score: -- Confusion Matrix and External Evaluation \\n' %(k))\n",
    "    y_predicted = grid_results[k].predict(X_test)\n",
    "    cm1 = confusion_matrix(y_test, y_predicted)\n",
    "    \n",
    "    print('Balanced Accuracy: ', balanced_accuracy_score(y_test, y_predicted))\n",
    "    print('Accuracy : ', accuracy_score(y_test, y_predicted))\n",
    "    print('f1-score : ', f1_score(y_test, y_predicted))\n",
    "    print('Recall : ' , recall_score(y_test, y_predicted))\n",
    "\n",
    "\n",
    "    print('Specificity : ', recall_score(y_test, y_predicted, pos_label=0) )\n",
    "\n",
    "    # Visualize it as a heatmap\n",
    "    import matplotlib.pyplot as plt\n",
    "    import seaborn as sn\n",
    "    plt.figure(figsize=(5,3))\n",
    "    sn.heatmap(cm1,annot=True, fmt='g')\n",
    "    plt.xlabel('Predicted')\n",
    "    plt.ylabel('Truth')\n",
    "    plt.show()\n",
    "    print('\\n\\n')"
   ]
  }
 ],
 "metadata": {
  "kernelspec": {
   "display_name": "Python 3",
   "language": "python",
   "name": "python3"
  },
  "language_info": {
   "codemirror_mode": {
    "name": "ipython",
    "version": 3
   },
   "file_extension": ".py",
   "mimetype": "text/x-python",
   "name": "python",
   "nbconvert_exporter": "python",
   "pygments_lexer": "ipython3",
   "version": "3.8.8"
  }
 },
 "nbformat": 4,
 "nbformat_minor": 5
}
